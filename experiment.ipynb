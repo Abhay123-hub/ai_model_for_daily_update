{
 "cells": [
  {
   "cell_type": "code",
   "execution_count": 1,
   "id": "484dda23",
   "metadata": {},
   "outputs": [],
   "source": [
    "import os\n",
    "from dotenv import load_dotenv\n",
    "load_dotenv()\n",
    "api_key = os.getenv(\"OPENAI_API_KEY\") ## this is my google gemini api key"
   ]
  },
  {
   "cell_type": "code",
   "execution_count": null,
   "id": "4267fb13",
   "metadata": {},
   "outputs": [],
   "source": [
    "from langchain_openai import ChatOpenAI\n",
    "llm = ChatOpenAI(model = \"gpt-3.5-turbo\",api_key=api_key)"
   ]
  },
  {
   "cell_type": "code",
   "execution_count": 3,
   "id": "edef70fe",
   "metadata": {},
   "outputs": [
    {
     "data": {
      "text/plain": [
       "'Data Science is a multidisciplinary field that uses scientific methods, processes, algorithms, and systems to extract knowledge and insights from structured and unstructured data. It combines principles from statistics, mathematics, computer science, and domain-specific knowledge to analyze large volumes of data and uncover hidden patterns and trends. Data Science is used in a variety of industries to make data-driven decisions and predictions, optimize processes and operations, and identify opportunities for improvement.'"
      ]
     },
     "execution_count": 3,
     "metadata": {},
     "output_type": "execute_result"
    }
   ],
   "source": [
    "llm.invoke(\"what is Data Science?\").content"
   ]
  },
  {
   "cell_type": "code",
   "execution_count": 4,
   "id": "318ad585",
   "metadata": {},
   "outputs": [],
   "source": [
    "## for monitoring and tracking setting up the langsmith code\n",
    "import os\n",
    "from dotenv import load_dotenv\n",
    "load_dotenv()\n",
    "os.environ[\"LANGCHAIN_TRACING_V2\"] = \"true\"\n",
    "os.environ[\"LANGCHAIN_API_KEY\"] = os.getenv(\"LANGCHAIN_API_KEY\")"
   ]
  },
  {
   "cell_type": "code",
   "execution_count": 5,
   "id": "0005d26c",
   "metadata": {},
   "outputs": [],
   "source": [
    "from langgraph.graph import StateGraph,START,END\n",
    "from typing import List\n",
    "from typing_extensions import TypedDict\n",
    "from langchain_core.output_parsers import StrOutputParser,JsonOutputParser\n",
    "from langchain_core.messages import HumanMessage, SystemMessage"
   ]
  },
  {
   "cell_type": "code",
   "execution_count": 6,
   "id": "cdb74ff3",
   "metadata": {},
   "outputs": [],
   "source": [
    "class State(TypedDict):\n",
    "    input:dict\n",
    "    math_revision:str\n",
    "    math_part:str\n",
    "    math_report_class:str\n",
    "    math_report_revision:str\n",
    "    physics_part:str\n",
    "    physics_revision:str\n",
    "    physics_report_class:str\n",
    "    physics_report_revision:str\n",
    "    organic_chemistry_part:str\n",
    "    organic_chemistry_revision:str\n",
    "    organic_chemistry_report_class:str\n",
    "    organic_chemistry_report_revision:str\n",
    "    experience_organic:str\n",
    "    inorganic_chemistry_part:str\n",
    "    inorganic_chemistry_revision:str\n",
    "    inorganic_chemistry_report_class:str\n",
    "    inorganic_chemistry_report_revision:str\n",
    "    physical_chemistry_part:str\n",
    "    physical_chemistry_revision:str\n",
    "    physical_chemistry_report_class:str\n",
    "    physical_chemistry_report_revision:str\n",
    "    final_report:str\n",
    "    final_score:int"
   ]
  },
  {
   "cell_type": "code",
   "execution_count": 7,
   "id": "35d9ba9b",
   "metadata": {},
   "outputs": [],
   "source": [
    "def Math_Agent(state:State):\n",
    "    \"This is a Math specific agent only designed for doing Mathematics related work\"\n",
    "    data = state[\"input\"]\n",
    "    math_part = data.get(\"Math\")\n",
    "    ## now i need to check either today the student attended the class or he did the revision\n",
    "    revision = math_part.get(\"math_revision\",None)\n",
    "    if revision == None:\n",
    "        ## means the student has attended the class\n",
    "        math_revision = \"no\"\n",
    "    else:\n",
    "        math_revision = \"yes\" ## means today student has done the revision\n",
    "    return {\"math_revision\":math_revision,\"math_part\":math_part}\n",
    "    "
   ]
  },
  {
   "cell_type": "code",
   "execution_count": 8,
   "id": "2e3d5cf1",
   "metadata": {},
   "outputs": [],
   "source": [
    "## after this Math_Agent i will apply the router function\n",
    "## this router function will see either the data will be sent to revision part or the class attended part"
   ]
  },
  {
   "cell_type": "code",
   "execution_count": 9,
   "id": "476a3e9e",
   "metadata": {},
   "outputs": [],
   "source": [
    "def math_router(state:State) ->str: ## the router which will decide either i need to go to revision agent or the class agent\n",
    "    input = state.get(\"input\")\n",
    "    math = input.get(\"Math\")\n",
    "    math_revision = math.get(\"math_revision\")\n",
    "    if math_revision == None:\n",
    "        return \"class_attended\"\n",
    "    else:\n",
    "        return \"class_revision\""
   ]
  },
  {
   "cell_type": "code",
   "execution_count": 10,
   "id": "44d670a0",
   "metadata": {},
   "outputs": [],
   "source": [
    "prompt_for_math_class_agent = \"\"\"You are very intelligent and helpful system.You are expert in Mathematics Part of IIT-JEE syllabus,your main job is to\n",
    "give report to student.You will be provided the daily data regarding student class like what topic student studied today,did he understand this topic or\n",
    "not.Based on the provided data first you will give report to student in detail like you did this and this.But you should focus here,this report is\n",
    "based on today's data only.You should focus in depth about the information provided to you and then give the report to the student.The report should\n",
    "not contain very complex words , it should be like that student can uderstand it very well.This is daily report it should not be very long.You should\n",
    "also remember that based on the daily reports which we will generate on daily basis, using these daily reports we will be generating the weekly report.\n",
    "This weekly report will be in detail.So you should make the daily report in such a way that student is able to know today's detail along with where he should\n",
    "focus in next class also some other very important instructions which the student should follow in order to make his daily preparation best.Give a clean and\n",
    "understandable daily report, do not add any useless thing.\n",
    "\n",
    "This is the  today's data:\n",
    "Today the student studied this topic {topic_studied} in Mathematics and understanding rate of the student on sacle of 10 was {understanding_rate}.The confidence level\n",
    "of the student of solving the questions of this topic is {confidence_level}.In the class the student found this part {difficult_part} very confusing and\n",
    "difficult.The Pace of the class was {pace} according to the student.The student in the class asked {doubts_asked} doubts to teacher.This topic was {topic_new}\n",
    "for the student.Our system gave a simple to medium level quiz from the system.The student scored {quiz_score} out of 10.\n",
    "This part should contain mathematics part only.\n",
    "\n",
    "You should note that in some of the information there will have written Not Provided, it means that information for that thing is not provided.So ignore\n",
    "that information and focus on other information.\n",
    "The output detail should be in string format.\n",
    "Note: Do not just copy paste the information provided by the student in the report.Before making the report you should analyze a lot and think about\n",
    "it in depth.Consider yourself you are the mentor of the student and by following your instructions student should do best.\n",
    "This report should be very human readble.The student should think that this report has been made by a human not by a machine.Avoid to repeat the information\n",
    "provided by the student.Give motivation along with suggestion to student as he is in very crucial part of his life ,which will decide his entire future.The report should be like\n",
    "'You have done this , you whould not done this,keep hope just practice more'\n",
    "\"\"\""
   ]
  },
  {
   "cell_type": "code",
   "execution_count": 11,
   "id": "0a6397d3",
   "metadata": {},
   "outputs": [],
   "source": [
    "## now i will create the function where we know that today student has attended the maths class\n",
    "def math_class(state:State)->dict:\n",
    "    \"\"\"  In this function we will provide the entire data regarding math_class,we will process that data and will make a report for today\n",
    "    A detialed report.\n",
    "             \"\"\"\n",
    "    ## here we do know that today student has attended the class and we need to provide the data regarding the class\n",
    "    input = state.get(\"input\")\n",
    "    math = input.get(\"Math\")\n",
    "    math_data = math.get(\"math_class\")\n",
    "    topic_studied = math_data.get(\"topic_studied\",\"Not Provided\")\n",
    "    understanding_rate = math_data.get(\"understanding_rate\",\"Not Provided\")\n",
    "    confidence_level = math_data.get(\"confidence_level\",\"Not Provided\")\n",
    "    difficult_part = math_data.get(\"difficult_part\",\"Not Provided\")\n",
    "    pace = math_data.get(\"pace\",\"Not Provided\")\n",
    "    doubts_asked = math_data.get(\"doubts_asked\",\"Not Provided\")\n",
    "    topic_new = math_data.get(\"topic_new\",\"Not Provided\") ## new  or not new\n",
    "    quiz_score = math_data.get(\"quiz_score\",\"Not Provided\")\n",
    "    \n",
    "    prompt = prompt_for_math_class_agent.format(\n",
    "        topic_studied = topic_studied,\n",
    "        understanding_rate=understanding_rate,\n",
    "        confidence_level=confidence_level,\n",
    "        difficult_part=difficult_part,\n",
    "        pace=pace,\n",
    "        doubts_asked=doubts_asked,\n",
    "        topic_new= topic_new,\n",
    "        quiz_score=quiz_score,\n",
    "    )\n",
    "    messages = [SystemMessage(content=prompt)]\n",
    "    \n",
    "    response = llm.invoke(messages).content\n",
    "    return {'math_report_class':str(response)}"
   ]
  },
  {
   "cell_type": "code",
   "execution_count": 12,
   "id": "d01b2fac",
   "metadata": {},
   "outputs": [],
   "source": [
    "## prompt for the case where we have revised for the subject mathematics\n",
    "prompt_for_math_revision_agent = \"\"\"  You are a very helpful assistant.You are perfect in IIT-JEE Matehmatics part,you know each and every thing \n",
    "about the mathematics part of the IIT-JEE syllabus.You will be provided the today's data/information where student has done the revison of Mathematics for IIT-JEE.\n",
    "Based on this data/information , you will give a daily report to the student whatever the student has done while revising the topic.Along with it you\n",
    "will also give the suggestions what the student should do and what the student should not do.Also you should tell avoid these things while doing next\n",
    "revision and focus on this part more.The important thing you should note that based on these daily reports we will make weekly report in future,so keep in\n",
    "mind that we should not face any difficulty while creating the weekly report in future.This daily report should not contain  complex words , the report should\n",
    "be easy to understand and should contain each and every point.\n",
    "This is the today revision data , make the report based on this daily data\n",
    "\n",
    "Today in the revision the student revised this topic {topic}.The student did {type} for revision of this topic.The student solved {questions_solved} questions\n",
    "on this topic.The student solved {questions_corrected} questions correctly without watching the solution.The student spent {time_spent} while revising this\n",
    "topic.The confidence level of the student was {confidence_level} on the scale of 10 after revision.The student faced {doubts} while revising this topic.The student\n",
    "faced doubts in this part {doubt_part}.The student found this revision {helpful}.\n",
    "\n",
    "You should note that in some of the information there will have written Not Provided, it means that information for that thing is not provided.So ignore\n",
    "that information and focus on other information.\n",
    "This report should contain mathematics part only.\n",
    "now based on this data give a daily report.Do not add any extra thing.Before providing the report focus on each and every component of the report.\n",
    "Note that the report should not be very long about 7-8 lines and the report should be provied in string format.\n",
    "Note: Do not just copy paste the information provided by the student in the report.Before making the report you should analyze a lot and think about\n",
    "it in depth.Consider yourself you are the mentor of the student and by following your instructions student should do best.\n",
    "This report should be very human readble.The student should think that this report has been made by a human not by a machine.Avoid to repeat the information\n",
    "provided by the student.Give motivation along with suggestion to student as he is in very crucial part of his life ,which will decide his entire future.The report should be like\n",
    "'You have done this , you whould not done this,keep hope just practice more'\n",
    "\n",
    "\n",
    "\"\"\"\n"
   ]
  },
  {
   "cell_type": "code",
   "execution_count": 13,
   "id": "4bb0f742",
   "metadata": {},
   "outputs": [],
   "source": [
    "## similar report i will make if i imagine today student has attended the class\n",
    "def math_revision(state:State)->dict:\n",
    "    \"\"\"In this function we will provide the data regarding the student revision day.Here the student will put the data regarding the reviison \n",
    "    he did today.Based on the data provided will give a daily report.\n",
    "    \"\"\"\n",
    "    input = state.get(\"input\")\n",
    "    math = input.get(\"Math\")\n",
    "    math_data = math.get(\"math_revision\") ## the local variable not the global variable\n",
    "    topic = math_data.get(\"topic\",\"Not Provided\")\n",
    "    type = math_data.get(\"type\",\"Not Provided\") ## it is a multi select option like \"read theory,watched video\" in string only\n",
    "    questions_solved = math_data.get(\"solved_questions\",\"Not Provided\")\n",
    "    questions_corrected = math_data.get(\"questions_corrected\",\"Not Provided\")\n",
    "    time_spent = math_data.get(\"time_spent\",\"Not Provided\")\n",
    "    confidence_level = math_data.get(\"confidence_level\",\"Not Provided\")\n",
    "    doubts = math_data.get(\"doubts\",\"Not Provided\") ## doubts or no doubts\n",
    "    doubt_part = math_data.get(\"doubt_part\",\"Not Provided\")\n",
    "    helpful = math_data.get(\"helpful\",\"Not Provided\") ## helpful or not helpful\n",
    "    \n",
    "    prompt = prompt_for_math_revision_agent.format(\n",
    "        topic=topic,\n",
    "        type=type,\n",
    "        questions_solved=questions_solved,\n",
    "        questions_corrected=questions_corrected,\n",
    "        time_spent=time_spent,\n",
    "        confidence_level=confidence_level,\n",
    "        doubts=doubts,\n",
    "        doubt_part=doubt_part,\n",
    "        helpful=helpful\n",
    "    )\n",
    "    messages = [SystemMessage(content=prompt)]\n",
    "    response = llm.invoke(messages).content\n",
    "    return {\"math_report_revision\":str(response)}"
   ]
  },
  {
   "cell_type": "code",
   "execution_count": 14,
   "id": "0261830c",
   "metadata": {},
   "outputs": [],
   "source": [
    "## we created math revision agent and math class agent ,which can process the data accordingly\n",
    "## now similarly i will create for physics and chemsitry\n"
   ]
  },
  {
   "cell_type": "code",
   "execution_count": 15,
   "id": "a8fe6f12",
   "metadata": {},
   "outputs": [],
   "source": [
    "def Physics_Agent(state:State):\n",
    "    \"This is a Physics specific agent only designed for doing Physics related work\"\n",
    "    data = state[\"input\"]\n",
    "    physics_part = data.get(\"Physics\")\n",
    "    ## now i need to check either today the student attended the class or he did the revision\n",
    "    revision = physics_part.get(\"physics_revision\",None)\n",
    "    if revision == None:\n",
    "        ## means the student has attended the class\n",
    "        physics_revision = \"no\"\n",
    "    else:\n",
    "        physics_revision = \"yes\" ## means today student has done the revision\n",
    "    return {\"physics_revision\":physics_revision,\"physics_part\":physics_part}"
   ]
  },
  {
   "cell_type": "code",
   "execution_count": 16,
   "id": "ca63bc21",
   "metadata": {},
   "outputs": [],
   "source": [
    "def physics_router(state:State) ->str: ## router which will decide either i need to go to revision agent or class agent\n",
    "    input = state.get(\"input\")\n",
    "    physics = input.get(\"Physics\")\n",
    "    physics_revision = physics.get(\"physics_revision\")\n",
    "    if physics_revision == None:\n",
    "        return \"class_attended\"\n",
    "    else:\n",
    "        return \"class_revision\""
   ]
  },
  {
   "cell_type": "code",
   "execution_count": 17,
   "id": "6c58858b",
   "metadata": {},
   "outputs": [],
   "source": [
    "prompt_for_physics_class_agent = \"\"\"You are very intelligent and helpful system.You are expert in Physics Part of IIT-JEE syllabus,your main job is to\n",
    "give report to student.You will be provided the daily data regarding student class like what topic student studied today,did he understand this topic or\n",
    "not.Based on the provided data first you will give report to student in detail like you did this and this.But you should focus here,this report is\n",
    "based on today's data only.You should focus in depth about the information  provided to you and then give the report to the student.The report should\n",
    "not contain very complex words , it should be like that student can uderstand it very well.This is daily report it should not be very long.You should\n",
    "also remember that based on the daily reports which we will generate on daily basis, using these daily reports we will be generating the weekly report.\n",
    "This weekly report will be in detail.So you should make the daily report in such a way that student is able to know today's detail along with where he should\n",
    "focus in next class also some other very important instructions which the student should follow in order to make his daily preparation best.Give a clean and\n",
    "understandable daily report, do not add any extra and useless thing.\n",
    "\n",
    "This is the  today's data of the student class:\n",
    "Today the student studied this topic {topic_studied} in Physics and understanding rate of the student on sacle of 10 was {understanding_rate}.The confidence level\n",
    "of the student of solving the questions of this topic is {confidence_level}.In the class the student found this part {difficult_part} very confusing and\n",
    "difficult.The Pace of the class was {pace} according to the student.The student in the class asked {doubts_asked} doubts to teacher.This topic was {topic_new}\n",
    "for the student.Our system gave a simple to medium level quiz from the system.The student scored {quiz_score} out of 10.\n",
    "This report should contain physics part only.\n",
    "\n",
    "You should note that in some of the information there will have written Not Provided, it means that information for that thing is not provided.So ignore\n",
    "that information and focus on other information.\n",
    "The output detail should be in string format.\n",
    "Note: Do not just copy paste the information provided by the student in the report.Before making the report you should analyze a lot and think about\n",
    "it in depth.Consider yourself you are the mentor of the student and by following your instructions student should do best.\n",
    "This report should be very human readble.The student should think that this report has been made by a human not by a machine.Avoid to repeat the information\n",
    "provided by the student.Give motivation along with suggestion to student as he is in very crucial part of his life ,which will decide his entire future.The report should be like\n",
    "'You have done this , you whould not done this,keep hope just practice more'\n",
    "\"\"\""
   ]
  },
  {
   "cell_type": "code",
   "execution_count": 18,
   "id": "d03d18f9",
   "metadata": {},
   "outputs": [],
   "source": [
    "## now i will create the function where we know that today student has attended the physics class\n",
    "def physics_class(state:State)->dict:\n",
    "    \"\"\"  In this function we will provide the entire data regarding math_class,we will process that data and will make a report for today\n",
    "    A detialed report.\n",
    "             \"\"\"\n",
    "    ## here we do know that today student has attended the class and we need to provide the data regarding the class\n",
    "    input = state.get(\"input\")\n",
    "    physics = input.get(\"Physics\")\n",
    "    physics_data = physics.get(\"physics_class\")\n",
    "    \n",
    "    topic_studied = physics_data.get(\"topic_studied\",\"Not Provided\")\n",
    "    understanding_rate = physics_data.get(\"understanding_rate\",\"Not Provided\")\n",
    "    confidence_level = physics_data.get(\"confidence_level\",\"Not Provided\")\n",
    "    difficult_part = physics_data.get(\"difficult_part\",\"Not Provided\")\n",
    "    pace = physics_data.get(\"pace\",\"Not Provided\")\n",
    "    doubts_asked = physics_data.get(\"doubts_asked\",\"Not Provided\")\n",
    "    topic_new = physics_data.get(\"topic_new\",\"Not Provided\") ## new  or not new\n",
    "    quiz_score = physics_data.get(\"quiz_score\",\"Not Provided\")\n",
    "    \n",
    "    prompt = prompt_for_physics_class_agent.format(\n",
    "        topic_studied = topic_studied,\n",
    "        understanding_rate=understanding_rate,\n",
    "        confidence_level=confidence_level,\n",
    "        difficult_part=difficult_part,\n",
    "        pace=pace,\n",
    "        doubts_asked=doubts_asked,\n",
    "        topic_new= topic_new,\n",
    "        quiz_score=quiz_score,\n",
    "    )\n",
    "    messages = [SystemMessage(content=prompt)]\n",
    "    \n",
    "    response = llm.invoke(messages).content\n",
    "    return {'physics_report_class':str(response)}"
   ]
  },
  {
   "cell_type": "code",
   "execution_count": 19,
   "id": "fee8e63f",
   "metadata": {},
   "outputs": [],
   "source": [
    "## prompt for the case where we have revised for the subject mathematics\n",
    "prompt_for_physics_revision_agent = \"\"\"  You are a very helpful assistant.You are perfect in IIT-JEE Physics part,you know each and every thing \n",
    "about the physics part of the IIT-JEE syllabus.You will be provided the today's data/information where student has done the revison of physics for IIT-JEE.\n",
    "Based on this data/information , you will give a daily report to the student whatever the student has done while revising the topic.Along with it you\n",
    "will also give the suggestions what the student should do and what the student should not do.Also you should tell avoid these things while doing next\n",
    "revision and focus on this part more.The important thing you should note that based on these daily reports we will make weekly report in future,so keep in\n",
    "mind that we should not face any difficulty while creating the weekly report in future.This daily report should contain not  complex words , the report should\n",
    "be easy to understand and should contain each and every point.\n",
    "This is the today revision data , make the report based on this daily data\n",
    "\n",
    "Today in the revision the student revised this topic {topic}.The student did {type} for revision of this topic.The student solved {questions_solved} questions\n",
    "on this topic.The student solved {questions_corrected} questions correctly without watching the solution.The student spent {time_spent} while revising this\n",
    "topic.The confidence level of the student was {confidence_level} on the scale of 10 after revision.The student faced {doubts} while revising this topic.The student\n",
    "faced doubts in this part {doubt_part}.The student found this revision {helpful}.\n",
    "\n",
    "You should note that in some of the information there will have written Not Provided, it means that information for that thing is not provided.So ignore\n",
    "that information and focus on other information.\n",
    "This report should contain physics part only\n",
    "now based on this data give a daily report.Do not add any extra thing.Before providing the report focus on each and every component of the report.\n",
    "Note that the report should not be very long about 7-8 lines and the report should be provied in string format.\n",
    "Note: Do not just copy paste the information provided by the student in the report.Before making the report you should analyze a lot and think about\n",
    "it in depth.Consider yourself you are the mentor of the student and by following your instructions student should do best.\n",
    "This report should be very human readble.The student should think that this report has been made by a human not by a machine.Avoid to repeat the information\n",
    "provided by the student.Give motivation along with suggestion to student as he is in very crucial part of his life ,which will decide his entire future.The report should be like\n",
    "'You have done this , you whould not done this,keep hope just practice more'\n",
    "\n",
    "\"\"\"\n"
   ]
  },
  {
   "cell_type": "code",
   "execution_count": 20,
   "id": "5a03b1d4",
   "metadata": {},
   "outputs": [],
   "source": [
    "## similar report i will make if i imagine today student has attended the class\n",
    "def physics_revision(state:State)->dict:\n",
    "    \"\"\"In this function we will provide the data regarding the student revision day.Here the student will put the data regarding the reviison \n",
    "    he did today.Based on the data provided will give a daily report.\n",
    "    \"\"\"\n",
    "    input = state.get(\"input\")\n",
    "    physics = input.get(\"Physics\")\n",
    "    physics_data = physics.get(\"physics_revision\")\n",
    "    topic = physics_data.get(\"topic\",\"Not Provided\")\n",
    "    type = physics_data.get(\"type\",\"Not Provided\") ## it is a multi select option like \"read theory,watched video\" in string only\n",
    "    questions_solved = physics_data.get(\"solved_questions\",\"Not Provided\")\n",
    "    questions_corrected = physics_data.get(\"questions_corrected\",\"Not Provided\")\n",
    "    time_spent = physics_data.get(\"time_spent\",\"Not Provided\")\n",
    "    confidence_level = physics_data.get(\"confidence_level\",\"Not Provided\")\n",
    "    doubts = physics_data.get(\"doubts\",\"Not Provided\") ## doubts or no doubts\n",
    "    doubt_part = physics_data.get(\"doubt_part\",\"Not Provided\")\n",
    "    helpful = physics_data.get(\"helpful\",\"Not Provided\") ## helpful or not helpful\n",
    "    \n",
    "    prompt = prompt_for_physics_revision_agent.format(\n",
    "        topic=topic,\n",
    "        type=type,\n",
    "        questions_solved=questions_solved,\n",
    "        questions_corrected=questions_corrected,\n",
    "        time_spent=time_spent,\n",
    "        confidence_level=confidence_level,\n",
    "        doubts=doubts,\n",
    "        doubt_part=doubt_part,\n",
    "        helpful=helpful\n",
    "    )\n",
    "    messages = [SystemMessage(content=prompt)]\n",
    "    response = llm.invoke(messages).content\n",
    "    return {\"physics_report_revision\":str(response)}"
   ]
  },
  {
   "cell_type": "code",
   "execution_count": 21,
   "id": "70058a08",
   "metadata": {},
   "outputs": [],
   "source": [
    "## similarly we will be writting the code for  organic chemistry agent"
   ]
  },
  {
   "cell_type": "code",
   "execution_count": 22,
   "id": "507634f3",
   "metadata": {},
   "outputs": [],
   "source": [
    "def Organic_Chemistry_Agent(state:State):\n",
    "    \"This is a Organic Chemistry specific agent only designed for doing Organic Chemistry related work\"\n",
    "    data = state[\"input\"]\n",
    "    organic_chemistry_part = data.get(\"Organic_Chemistry\")\n",
    "    ## now i need to check either today the student attended the class or he did the revision\n",
    "    revision = organic_chemistry_part.get(\"organic_chemistry_revision\",None)\n",
    "    if revision == None:\n",
    "        ## means the student has attended the class\n",
    "        organic_chemistry_revision = \"no\"\n",
    "    else:\n",
    "        organic_chemistry_revision = \"yes\" ## means today student has done the revision\n",
    "    return {\"organic_chemistry_revision\":organic_chemistry_revision,\"organic_chemistry_part\":organic_chemistry_part}"
   ]
  },
  {
   "cell_type": "code",
   "execution_count": 23,
   "id": "7b84e88e",
   "metadata": {},
   "outputs": [],
   "source": [
    "def organic_chemistry_router(state:State) ->str: ## the router which will decide either i need to go to revision agent or the class agent\n",
    "    input = state.get(\"input\")\n",
    "    organic_chemistry = input.get(\"Organic_Chemistry\")\n",
    "    organic_chemistry_revision = organic_chemistry.get(\"organic_chemistry_revision\")\n",
    "    if organic_chemistry_revision == None:\n",
    "        return \"class_attended\"\n",
    "    else:\n",
    "        return \"class_revision\""
   ]
  },
  {
   "cell_type": "code",
   "execution_count": 24,
   "id": "60288381",
   "metadata": {},
   "outputs": [],
   "source": [
    "prompt_for_organic_chemistry_class_agent = \"\"\"You are very intelligent and helpful system.You are expert in Organic Chemistry Part of IIT-JEE syllabus,your main job is to\n",
    "give report to student.You will be provided the daily data regarding student class like what topic student studied today,did he understand this topic or\n",
    "not.Based on the provided data first you will give report to student in detail like you did this and this.But you should focus here,this report is\n",
    "based on today's data only.You should focus in depth about the information provided to you and then give the report to the student.The report should\n",
    "not contain very complex words , it should be like that student can uderstand it very well.This is daily report it should not be very long.You should\n",
    "also remember that based on the daily reports which we will generate on daily basis, using these daily reports we will be generating the weekly report.\n",
    "This weekly report will be in detail.So you should make the daily report in such a way that student is able to know today's detail along with where he should\n",
    "focus in next class also some other very important instructions which the student should follow in order to make his daily preparation best.Give a clean and\n",
    "understandable daily report, do not add any extra and useless thing.\n",
    "\n",
    "This is the  today's data of the student class:\n",
    "Today the student studied this topic {topic_studied} in Organic Chemistry and understanding rate of the student on sacle of 10 was {understanding_rate}.The confidence level\n",
    "of the student of solving the questions of this topic is {confidence_level}.In the class the student found this part {difficult_part} very confusing and\n",
    "difficult.The Pace of the class was {pace} according to the student.The student in the class asked {doubts_asked} doubts to teacher.This topic was {topic_new}\n",
    "for the student.Our system gave a simple to medium level quiz from the system.The student scored {quiz_score} out of 10.\n",
    "\n",
    "You should note that in some of the information there will have written Not Provided, it means that information for that thing is not provided.So ignore\n",
    "that information and focus on other information.\n",
    "This report should contain organic chemistry part only\n",
    "\n",
    "\n",
    "The output detail should be in string format.\n",
    "Note: Do not just copy paste the information provided by the student in the report.Before making the report you should analyze a lot and think about\n",
    "it in depth.Consider yourself you are the mentor of the student and by following your instructions student should do best.\n",
    "This report should be very human readble.The student should think that this report has been made by a human not by a machine.Avoid to repeat the information\n",
    "provided by the student.Give motivation along with suggestion to student as he is in very crucial part of his life ,which will decide his entire future.The report should be like\n",
    "'You have done this , you whould not done this,keep hope just practice more'\n",
    "\"\"\""
   ]
  },
  {
   "cell_type": "code",
   "execution_count": 25,
   "id": "fa12f644",
   "metadata": {},
   "outputs": [],
   "source": [
    "## now i will create the function where we know that today student has attended the organic_chemistry class\n",
    "def organic_chemistry_class(state:State)->dict:\n",
    "    \"\"\"  In this function we will provide the entire data regarding organic_chemistry_class,we will process that data and will make a report for today\n",
    "    A detialed report.\n",
    "             \"\"\"\n",
    "    ## here we do know that today student has attended the class and we need to provide the data regarding the class\n",
    "    input = state.get(\"input\")\n",
    "    organic_chemistry = input.get(\"Organic_Chemistry\")\n",
    "    organic_data = organic_chemistry.get(\"organic_chemistry_class\")\n",
    "    topic_studied = organic_data.get(\"topic_studied\",\"Not Provided\")\n",
    "    understanding_rate = organic_data.get(\"understanding_rate\",\"Not Provided\")\n",
    "    confidence_level = organic_data.get(\"confidence_level\",\"Not Provided\")\n",
    "    difficult_part = organic_data.get(\"difficult_part\",\"Not Provided\")\n",
    "    pace = organic_data.get(\"pace\",\"Not Provided\")\n",
    "    doubts_asked = organic_data.get(\"doubts_asked\",\"Not Provided\")\n",
    "    topic_new = organic_data.get(\"topic_new\",\"Not Provided\") ## new  or not new\n",
    "    quiz_score = organic_data.get(\"quiz_score\",\"Not Provided\")\n",
    "    \n",
    "    prompt = prompt_for_organic_chemistry_class_agent.format(\n",
    "        topic_studied = topic_studied,\n",
    "        understanding_rate=understanding_rate,\n",
    "        confidence_level=confidence_level,\n",
    "        difficult_part=difficult_part,\n",
    "        pace=pace,\n",
    "        doubts_asked=doubts_asked,\n",
    "        topic_new= topic_new,\n",
    "        quiz_score=quiz_score,\n",
    "    )\n",
    "    messages = [SystemMessage(content=prompt)]\n",
    "    \n",
    "    response = llm.invoke(messages).content\n",
    "    return {'organic_chemistry_report_class':str(response)}"
   ]
  },
  {
   "cell_type": "code",
   "execution_count": 26,
   "id": "ffd42d64",
   "metadata": {},
   "outputs": [],
   "source": [
    "\n",
    "prompt_for_organic_chemistry_revision_agent = \"\"\"  You are a very helpful assistant.You are perfect in IIT-JEE organic chemistry part,you know each and every thing \n",
    "about the organic chemistry part of the IIT-JEE syllabus.You will be provided the today's data/information where student has done the revison of organic chemistry for IIT-JEE.\n",
    "Based on this data/information , you will give a daily report to the student whatever the student has done while revising the topic.Along with it you\n",
    "will also give the suggestions what the student should do and what the student should not do.Also you should tell avoid these things while doing next\n",
    "revision and focus on this part more.The important thing you should note that based on these daily reports we will make weekly report in future,so keep in\n",
    "mind that we should not face any difficulty while creating the weekly report in future.This daily report should contain not  complex words , the report should\n",
    "be easy to understand and should contain each and every point.\n",
    "This is the today revision data , make the report based on this daily data\n",
    "\n",
    "Today in the revision the student revised this topic {topic}.The student did {type} for revision of this topic.The student solved {questions_solved} questions\n",
    "on this topic.The student solved {questions_corrected} questions correctly without watching the solution.The student spent {time_spent} while revising this\n",
    "topic.The confidence level of the student was {confidence_level} on the scale of 10 after revision.The student faced {doubts} while revising this topic.The student\n",
    "faced doubts in this part {doubt_part}.The student found this revision {helpful}.\n",
    "\n",
    "You should note that in some of the information there will have written Not Provided, it means that information for that thing is not provided.So ignore\n",
    "that information and focus on other information.\n",
    "This report should contain only organic chemistry part only.\n",
    "\n",
    "now based on this data give a daily report.Do not add any extra thing.Before providing the report focus on each and every component of the report.\n",
    "Note that the report should not be very long about 7-8 lines and the report should be provied in string format.\n",
    "Note: Do not just copy paste the information provided by the student in the report.Before making the report you should analyze a lot and think about\n",
    "it in depth.Consider yourself you are the mentor of the student and by following your instructions student should do best.\n",
    "This report should be very human readble.The student should think that this report has been made by a human not by a machine.Avoid to repeat the information\n",
    "provided by the student.Give motivation along with suggestion to student as he is in very crucial part of his life ,which will decide his entire future.The report should be like\n",
    "'You have done this , you whould not done this,keep hope just practice more'\n",
    "\n",
    "\n",
    "\"\"\"\n"
   ]
  },
  {
   "cell_type": "code",
   "execution_count": 27,
   "id": "4823a29c",
   "metadata": {},
   "outputs": [],
   "source": [
    "\n",
    "def organic_chemistry_revision(state:State)->dict:\n",
    "    \"\"\"In this function we will provide the data regarding the student revision day.Here the student will put the data regarding the reviison \n",
    "    he did today.Based on the data provided will give a daily report.\n",
    "    \"\"\"\n",
    "\n",
    "    input = state.get(\"input\")\n",
    "    organic_chemistry = input.get(\"Organic_Chemistry\")\n",
    "    organic_data = organic_chemistry.get(\"organic_chemistry_revision\")\n",
    "    topic = organic_data.get(\"topic\",\"Not Provided\")\n",
    "    type = organic_data.get(\"type\",\"Not Provided\") ## it is a multi select option like \"read theory,watched video\" in string only\n",
    "    questions_solved = organic_data.get(\"solved_questions\",\"Not Provided\")\n",
    "    questions_corrected = organic_data.get(\"questions_corrected\",\"Not Provided\")\n",
    "    time_spent = organic_data.get(\"time_spent\",\"Not Provided\")\n",
    "    confidence_level = organic_data.get(\"confidence_level\",\"Not Provided\")\n",
    "    doubts = organic_data.get(\"doubts\",\"Not Provided\") ## doubts or no doubts\n",
    "    doubt_part = organic_data.get(\"doubt_part\",\"Not Provided\")\n",
    "    helpful = organic_data.get(\"helpful\",\"Not Provided\") ## helpful or not helpful\n",
    "    \n",
    "    prompt = prompt_for_organic_chemistry_revision_agent.format(\n",
    "        topic=topic,\n",
    "        type=type,\n",
    "        questions_solved=questions_solved,\n",
    "        questions_corrected=questions_corrected,\n",
    "        time_spent=time_spent,\n",
    "        confidence_level=confidence_level,\n",
    "        doubts=doubts,\n",
    "        doubt_part=doubt_part,\n",
    "        helpful=helpful\n",
    "    )\n",
    "    messages = [SystemMessage(content=prompt)]\n",
    "    response = llm.invoke(messages).content\n",
    "    return {\"organic_chemistry_report_revision\":str(response)}"
   ]
  },
  {
   "cell_type": "code",
   "execution_count": 28,
   "id": "44a8738f",
   "metadata": {},
   "outputs": [],
   "source": [
    "def inorganic_Chemistry_Agent(state:State):\n",
    "    \"This is a InOrganic Chemistry specific agent only designed for doing InOrganic Chemistry related work\"\n",
    "    data = state[\"input\"]\n",
    "    inorganic_chemistry_part = data.get(\"Inorganic_Chemistry\")\n",
    "    ## now i need to check either today the student attended the class or he did the revision\n",
    "    revision = inorganic_chemistry_part.get(\"inoragnic_chemistry_revision\",None)\n",
    "    if revision == None:\n",
    "        ## means the student has attended the class\n",
    "        inorganic_chemistry_revision = \"no\"\n",
    "    else:\n",
    "        inorganic_chemistry_revision = \"yes\" ## means today student has done the revision\n",
    "    return {\"inorganic_chemistry_revision\":inorganic_chemistry_revision,\"inorganic_chemistry_part\":inorganic_chemistry_part}"
   ]
  },
  {
   "cell_type": "code",
   "execution_count": 29,
   "id": "f9bf2a74",
   "metadata": {},
   "outputs": [],
   "source": [
    "def inorganic_chemistry_router(state:State) ->str: ## the router which will decide either i need to go to revision agent or the class agent\n",
    "    input = state.get(\"input\")\n",
    "    inorganic_chemistry = input.get(\"Inorganic_Chemistry\")\n",
    "    inorganic_chemistry_revision = inorganic_chemistry.get(\"inorganic_chemistry_revision\")\n",
    "    if inorganic_chemistry_revision == None:\n",
    "        return \"class_attended\"\n",
    "    else:\n",
    "        return \"class_revision\""
   ]
  },
  {
   "cell_type": "code",
   "execution_count": 66,
   "id": "2fb45f11",
   "metadata": {},
   "outputs": [],
   "source": [
    "prompt_for_inorganic_chemistry_class_agent= \"\"\"You are very intelligent and helpful system.You are expert in inorganic Chemistry Part of IIT-JEE syllabus,your main job is to\n",
    "give report to student.You will be provided the daily data regarding student class like what topic student studied today,did he understand this topic or\n",
    "not.Based on the provided data first you will give report to student in detail like you did this and this.But you should focus here,this report is\n",
    "based on today's data only.You should focus in depth about the information provided to you and then give the report to the student.The report should\n",
    "not contain very complex words , it should be like that student can uderstand it very well.This is daily report it should not be very long.You should\n",
    "also remember that based on the daily reports which we will generate on daily basis, using these daily reports we will be generating the weekly report.\n",
    "This weekly report will be in detail.So you should make the daily report in such a way that student is able to know today's detail along with where he should\n",
    "focus in next class also some other very important instructions which the student should follow in order to make his daily preparation best.Give a clean and\n",
    "understandable daily report, do not add any extra and useless thing.\n",
    "\n",
    "This is the  today's data of the student class:\n",
    "Today the student studied this topic {topic_studied} in inorganic Chemistry and understanding rate of the student on sacle of 10 was {understanding_rate}.The confidence level\n",
    "of the student of solving the questions of this topic is {confidence_level}.In the class the student found this part {difficult_part} very confusing and\n",
    "difficult.The Pace of the class was {pace} according to the student.The student in the class asked {doubts_asked} doubts to teacher.This topic was {topic_new}\n",
    "for the student.Our system gave a simple to medium level quiz from the system.The student scored {quiz_score} out of 10.\n",
    "\n",
    "You should note that in some of the information there will have written Not Provided, it means that information for that thing is not provided.So ignore\n",
    "that information and focus on other information.\n",
    "This report should contain inorganic chemistry part only\n",
    "\n",
    "\n",
    "The output detail should be in string format.\n",
    "Note: Do not just copy paste the information provided by the student in the report.Before making the report you should analyze a lot and think about\n",
    "it in depth.Consider yourself you are the mentor of the student and by followingprompt_for_inorganic_chemistry_class_agent your instructions student should do best.\n",
    "This report should be very human readble.The student should think that this report has been made by a human not by a machine.Avoid to repeat the information\n",
    "provided by the student.Give motivation along with suggestion to student as he is in very crucial part of his life ,which will decide his entire future.The report should be like\n",
    "'You have done this , you whould not done this,keep hope just practice more'\n",
    "\"\"\""
   ]
  },
  {
   "cell_type": "code",
   "execution_count": 31,
   "id": "37389cf2",
   "metadata": {},
   "outputs": [],
   "source": [
    "def inorganic_chemistry_class(state:State)->dict:\n",
    "    \"\"\"  In this function we will provide the entire data regarding inorganic_chemistry_class,we will process that data and will make a report for today\n",
    "    A detialed report.\n",
    "             \"\"\"\n",
    "    ## here we do know that today student has attended the class and we need to provide the data regarding the class\n",
    "    input = state.get(\"input\")\n",
    "    inorganic_chemistry = input.get(\"Inorganic_Chemistry\")\n",
    "    inorganic_data = inorganic_chemistry.get(\"inorganic_chemistry_class\")\n",
    "    topic_studied = inorganic_data.get(\"topic_studied\",\"Not Provided\")\n",
    "    understanding_rate = inorganic_data.get(\"understanding_rate\",\"Not Provided\")\n",
    "    confidence_level = inorganic_data.get(\"confidence_level\",\"Not Provided\")\n",
    "    difficult_part = inorganic_data.get(\"difficult_part\",\"Not Provided\")\n",
    "    pace = inorganic_data.get(\"pace\",\"Not Provided\")\n",
    "    doubts_asked = inorganic_data.get(\"doubts_asked\",\"Not Provided\")\n",
    "    topic_new = inorganic_data.get(\"topic_new\",\"Not Provided\") ## new  or not new\n",
    "    quiz_score = inorganic_data.get(\"quiz_score\",\"Not Provided\")\n",
    "    \n",
    "    prompt = prompt_for_inorganic_chemistry_class_agent.format(\n",
    "        topic_studied = topic_studied,\n",
    "        understanding_rate=understanding_rate,\n",
    "        confidence_level=confidence_level,\n",
    "        difficult_part=difficult_part,\n",
    "        pace=pace,\n",
    "        doubts_asked=doubts_asked,\n",
    "        topic_new= topic_new,\n",
    "        quiz_score=quiz_score,\n",
    "    )\n",
    "    messages = [SystemMessage(content=prompt)]\n",
    "    \n",
    "    response = llm.invoke(messages).content\n",
    "    return {'inorganic_chemistry_report_class':str(response)}"
   ]
  },
  {
   "cell_type": "code",
   "execution_count": 32,
   "id": "f98481b7",
   "metadata": {},
   "outputs": [],
   "source": [
    "prompt_for_inorganic_chemistry_revision_agent = \"\"\"  You are a very helpful assistant.You are perfect in IIT-JEE inorganic chemistry part,you know each and every thing \n",
    "about the inorganic chemistry part of the IIT-JEE syllabus.You will be provided the today's data/information where student has done the revison of inorganic chemistry for IIT-JEE.\n",
    "Based on this data/information , you will give a daily report to the student whatever the student has done while revising the topic.Along with it you\n",
    "will also give the suggestions what the student should do and what the student should not do.Also you should tell avoid these things while doing next\n",
    "revision and focus on this part more.The important thing you should note that based on these daily reports we will make weekly report in future,so keep in\n",
    "mind that we should not face any difficulty while creating the weekly report in future.This daily report should contain not complex words , the report should\n",
    "be easy to understand and should contain each and every point.\n",
    "This is the today revision data , make the report based on this daily data\n",
    "\n",
    "Today in the revision the student revised this topic {topic}.The student did {type} for revision of this topic.The student solved {questions_solved} questions\n",
    "on this topic.The student solved {questions_corrected} questions correctly without watching the solution.The student spent {time_spent} while revising this\n",
    "topic.The confidence level of the student was {confidence_level} on the scale of 10 after revision.The student faced {doubts} while revising this topic.The student\n",
    "faced doubts in this part {doubt_part}.The student found this revision {helpful}.\n",
    "\n",
    "You should note that in some of the information there will have written Not Provided, it means that information for that thing is not provided.So ignore\n",
    "that information and focus on other information.\n",
    "This report should contain only inorganic chemistry part only.\n",
    "\n",
    "now based on this data give a daily report.Do not add any extra thing.Before providing the report focus on each and every component of the report.\n",
    "Note that the report should not be very long about 7-8 lines and the report should be provied in string format.\n",
    "Note: Do not just copy paste the information provided by the student in the report.Before making the report you should analyze a lot and think about\n",
    "it in depth.Consider yourself you are the mentor of the student and by following your instructions student should do best.\n",
    "This report should be very human readble.The student should think that this report has been made by a human not by a machine.Avoid to repeat the information\n",
    "provided by the student.Give motivation along with suggestion to student as he is in very crucial part of his life ,which will decide his entire future.The report should be like\n",
    "'You have done this , you whould not done this,keep hope just practice more'\n",
    "\n",
    "\"\"\"\n"
   ]
  },
  {
   "cell_type": "code",
   "execution_count": 33,
   "id": "1548794c",
   "metadata": {},
   "outputs": [],
   "source": [
    "\n",
    "def inorganic_chemistry_revision(state:State)->dict:\n",
    "    \"\"\"In this function we will provide the data regarding the student revision day.Here the student will put the data regarding the reviison \n",
    "    he did today.Based on the data provided will give a daily report.\n",
    "    \"\"\"\n",
    "    input = state.get(\"input\")\n",
    "    inorganic_chemistry = input.get(\"Inorganic_Chemistry\")\n",
    "    inorganic_data = inorganic_chemistry.get(\"inorganic_chemistry_revision\")\n",
    "    topic = inorganic_data.get(\"topic\",\"Not Provided\")\n",
    "    type = inorganic_data.get(\"type\",\"Not Provided\") ## it is a multi select option like \"read theory,watched video\" in string only\n",
    "    questions_solved = inorganic_data.get(\"solved_questions\",\"Not Provided\")\n",
    "    questions_corrected = inorganic_data.get(\"questions_corrected\",\"Not Provided\")\n",
    "    time_spent = inorganic_data.get(\"time_spent\",\"Not Provided\")\n",
    "    confidence_level = inorganic_data.get(\"confidence_level\",\"Not Provided\")\n",
    "    doubts = inorganic_data.get(\"doubts\",\"Not Provided\") ## doubts or no doubts\n",
    "    doubt_part = inorganic_data.get(\"doubt_part\",\"Not Provided\")\n",
    "    helpful = inorganic_data.get(\"helpful\",\"Not Provided\") ## helpful or not helpful\n",
    "    \n",
    "    prompt = prompt_for_inorganic_chemistry_revision_agent.format(\n",
    "        topic=topic,\n",
    "        type=type,\n",
    "        questions_solved=questions_solved,\n",
    "        questions_corrected=questions_corrected,\n",
    "        time_spent=time_spent,\n",
    "        confidence_level=confidence_level,\n",
    "        doubts=doubts,\n",
    "        doubt_part=doubt_part,\n",
    "        helpful=helpful\n",
    "    )\n",
    "    messages = [SystemMessage(content=prompt)]\n",
    "    response = llm.invoke(messages).content\n",
    "    return {\"inorganic_chemistry_report_revision\":str(response)}"
   ]
  },
  {
   "cell_type": "code",
   "execution_count": 34,
   "id": "ed59c30a",
   "metadata": {},
   "outputs": [],
   "source": [
    "## now the only remaining part is physical chemistry"
   ]
  },
  {
   "cell_type": "code",
   "execution_count": 35,
   "id": "d4c7166d",
   "metadata": {},
   "outputs": [],
   "source": [
    "def Physical_Chemistry_Agent(state:State):\n",
    "    \"This is a InOrganic Chemistry specific agent only designed for doing InOrganic Chemistry related work\"\n",
    "    data = state[\"input\"]\n",
    "    physical_chemistry_part = data.get(\"Physical_Chemistry\")\n",
    "    ## now i need to check either today the student attended the class or he did the revision\n",
    "    revision = physical_chemistry_part.get(\"physical_chemistry_revision\",None)\n",
    "    if revision == None:\n",
    "        ## means the student has attended the class\n",
    "        physical_chemistry_revision = \"no\"\n",
    "    else:\n",
    "        physical_chemistry_revision = \"yes\" ## means today student has done the revision\n",
    "    return {\"physical_chemistry_revision\":physical_chemistry_revision,\"physical_chemistry_part\":physical_chemistry_part}"
   ]
  },
  {
   "cell_type": "code",
   "execution_count": 36,
   "id": "e78c16a4",
   "metadata": {},
   "outputs": [],
   "source": [
    "def physical_chemistry_router(state:State) ->str: ## the router which will decide either i need to go to revision agent or the class agent\n",
    "    input = state.get(\"input\")\n",
    "    physical_chemistry = input.get(\"Physical_Chemistry\")\n",
    "    physical_chemistry_revision = physical_chemistry.get(\"physical_chemistry_revision\")\n",
    "    if physical_chemistry_revision == None:\n",
    "        return \"class_attended\"\n",
    "    else:\n",
    "        return \"class_revision\""
   ]
  },
  {
   "cell_type": "code",
   "execution_count": 37,
   "id": "15cfd1f0",
   "metadata": {},
   "outputs": [],
   "source": [
    "prompt_for_physical_chemistry_class_agent = \"\"\"You are very intelligent and helpful system.You are expert in Physical Chemistry Part of IIT-JEE syllabus,your main job is to\n",
    "give report to student.You will be provided the daily data regarding student class like what topic student studied today,did he understand this topic or\n",
    "not.Based on the provided data first you will give report to student in detail like you did this and this.But you should focus here,this report is\n",
    "based on today's data only.You should focus in depth about the information provided to you and then give the report to the student.The report should\n",
    "not contain very complex words , it should be like that student can uderstand it very well.This is daily report it should not be very long.You should\n",
    "also remember that based on the daily reports which we will generate on daily basis, using these daily reports we will be generating the weekly report.\n",
    "This weekly report will be in detail.So you should make the daily report in such a way that student is able to know today's detail along with where he should\n",
    "focus in next class also some other very important instructions which the student should follow in order to make his daily preparation best.Give a clean and\n",
    "understandable daily report, do not add any extra and useless thing.\n",
    "\n",
    "This is the  today's data of the student class:\n",
    "Today the student studied this topic {topic_studied} in physical Chemistry and understanding rate of the student on sacle of 10 was {understanding_rate}.The confidence level\n",
    "of the student of solving the questions of this topic is {confidence_level}.In the class the student found this part {difficult_part} very confusing and\n",
    "difficult.The Pace of the class was {pace} according to the student.The student in the class asked {doubts_asked} doubts to teacher.This topic was {topic_new}\n",
    "for the student.Our system gave a simple to medium level quiz from the system.The student scored {quiz_score} out of 10.\n",
    "\n",
    "You should note that in some of the information there will have written Not Provided, it means that information for that thing is not provided.So ignore\n",
    "that information and focus on other information.\n",
    "This report should contain Physical chemistry part only\n",
    "\n",
    "\n",
    "The output detail should be in string format.\n",
    "Note: Do not just copy paste the information provided by the student in the report.Before making the report you should analyze a lot and think about\n",
    "it in depth.Consider yourself you are the mentor of the student and by following your instructions student should do best.\n",
    "This report should be very human readble.The student should think that this report has been made by a human not by a machine.Avoid to repeat the information\n",
    "provided by the student.Give motivation along with suggestion to student as he is in very crucial part of his life ,which will decide his entire future.The report should be like\n",
    "'You have done this , you whould not done this,keep hope just practice more'\n",
    "\"\"\""
   ]
  },
  {
   "cell_type": "code",
   "execution_count": 38,
   "id": "9077cc17",
   "metadata": {},
   "outputs": [],
   "source": [
    "def physical_chemistry_class(state:State)->dict:\n",
    "    \"\"\"  In this function we will provide the entire data regarding physical chemistry_class,we will process that data and will make a report for today\n",
    "    A detialed report.\n",
    "             \"\"\"\n",
    "    ## here we do know that today student has attended the class and we need to provide the data regarding the class\n",
    "    input = state.get(\"input\")\n",
    "    physical_chemistry = input.get(\"Physical_Chemistry\")\n",
    "    physical_data = physical_chemistry.get(\"physical_chemistry_class\")\n",
    "    topic_studied = physical_data.get(\"topic_studied\",\"Not Provided\")\n",
    "    understanding_rate = physical_data.get(\"understanding_rate\",\"Not Provided\")\n",
    "    confidence_level = physical_data.get(\"confidence_level\",\"Not Provided\")\n",
    "    difficult_part = physical_data.get(\"difficult_part\",\"Not Provided\")\n",
    "    pace = physical_data.get(\"pace\",\"Not Provided\")\n",
    "    doubts_asked = physical_data.get(\"doubts_asked\",\"Not Provided\")\n",
    "    topic_new = physical_data.get(\"topic_new\",\"Not Provided\") ## new  or not new\n",
    "    quiz_score = physical_data.get(\"quiz_score\",\"Not Provided\")\n",
    "    \n",
    "    prompt = prompt_for_physical_chemistry_class_agent.format(\n",
    "        topic_studied = topic_studied,\n",
    "        understanding_rate=understanding_rate,\n",
    "        confidence_level=confidence_level,\n",
    "        difficult_part=difficult_part,\n",
    "        pace=pace,\n",
    "        doubts_asked=doubts_asked,\n",
    "        topic_new= topic_new,\n",
    "        quiz_score=quiz_score,\n",
    "    )\n",
    "    messages = [SystemMessage(content=prompt)]\n",
    "    \n",
    "    response = llm.invoke(messages).content\n",
    "    return {'physical_chemistry_report_class':str(response)}"
   ]
  },
  {
   "cell_type": "code",
   "execution_count": 39,
   "id": "c0e3707c",
   "metadata": {},
   "outputs": [],
   "source": [
    "prompt_for_physical_chemistry_revision_agent = \"\"\"  You are a very helpful assistant.You are perfect in IIT-JEE Physical chemistry part,you know each and every thing \n",
    "about the Physical chemistry part of the IIT-JEE syllabus.You will be provided the today's data/information where student has done the revison of Physical chemistry for IIT-JEE.\n",
    "Based on this data/information , you will give a daily report to the student whatever the student has done while revising the topic.Along with it you\n",
    "will also give the suggestions what the student should do and what the student should not do.Also you should tell avoid these things while doing next\n",
    "revision and focus on this part more.The important thing you should note that based on these daily reports we will make weekly report in future,so keep in\n",
    "mind that we should not face any difficulty while creating the weekly report in future.This daily report should contain not complex words , the report should\n",
    "be easy to understand and should contain each and every point.\n",
    "This is the today revision data , make the report based on this daily data\n",
    "\n",
    "Today in the revision the student revised this topic {topic}.The student did {type} for revision of this topic.The student solved {questions_solved} questions\n",
    "on this topic.The student solved {questions_corrected} questions correctly without watching the solution.The student spent {time_spent} while revising this\n",
    "topic.The confidence level of the student was {confidence_level} on the scale of 10 after revision.The student faced {doubts} while revising this topic.The student\n",
    "faced doubts in this part {doubt_part}.The student found this revision {helpful}.\n",
    "\n",
    "You should note that in some of the information there will have written Not Provided, it means that information for that thing is not provided.So ignore\n",
    "that information and focus on other information.\n",
    "This report should contain only Physical chemistry part only.\n",
    "\n",
    "now based on this data give a daily report.Do not add any extra thing.Before providing the report focus on each and every component of the report.\n",
    "Note that the report should not be very long about 7-8 lines and the report should be provied in string format.\n",
    "Note: Do not just copy paste the information provided by the student in the report.Before making the report you should analyze a lot and think about\n",
    "it in depth.Consider yourself you are the mentor of the student and by following your instructions student should do best.\n",
    "This report should be very human readble.The student should think that this report has been made by a human not by a machine.Avoid to repeat the information\n",
    "provided by the student.Give motivation along with suggestion to student as he is in very crucial part of his life ,which will decide his entire future.The report should be like\n",
    "'You have done this , you whould not done this,keep hope just practice more'\n",
    "\n",
    "\"\"\"\n"
   ]
  },
  {
   "cell_type": "code",
   "execution_count": 40,
   "id": "a3ca7af0",
   "metadata": {},
   "outputs": [],
   "source": [
    "def physical_chemistry_revision(state:State)->dict:\n",
    "    \"\"\"In this function we will provide the data regarding the student revision day.Here the student will put the data regarding the reviison \n",
    "    he did today.Based on the data provided will give a daily report.\n",
    "    \"\"\"\n",
    "    input = state.get(\"input\")\n",
    "    physical_chemistry = input.get(\"Physical_Chemistry\")\n",
    "    physical_data = physical_chemistry.get(\"physical_chemistry_revision\")\n",
    "    topic = physical_data.get(\"topic\",\"Not Provided\")\n",
    "    type = physical_data.get(\"type\",\"Not Provided\") ## it is a multi select option like \"read theory,watched video\" in string only\n",
    "    questions_solved = physical_data.get(\"solved_questions\",\"Not Provided\")\n",
    "    questions_corrected = physical_data.get(\"questions_corrected\",\"Not Provided\")\n",
    "    time_spent = physical_data.get(\"time_spent\",\"Not Provided\")\n",
    "    confidence_level = physical_data.get(\"confidence_level\",\"Not Provided\")\n",
    "    doubts = physical_data.get(\"doubts\",\"Not Provided\") ## doubts or no doubts\n",
    "    doubt_part = physical_data.get(\"doubt_part\",\"Not Provided\")\n",
    "    helpful = physical_data.get(\"helpful\",\"Not Provided\") ## helpful or not helpful\n",
    "    \n",
    "    prompt = prompt_for_physical_chemistry_revision_agent.format(\n",
    "        topic=topic,\n",
    "        type=type,\n",
    "        questions_solved=questions_solved,\n",
    "        questions_corrected=questions_corrected,\n",
    "        time_spent=time_spent,\n",
    "        confidence_level=confidence_level,\n",
    "        doubts=doubts,\n",
    "        doubt_part=doubt_part,\n",
    "        helpful=helpful\n",
    "    )\n",
    "    messages = [SystemMessage(content=prompt)]\n",
    "    response = llm.invoke(messages).content\n",
    "    return {\"physical_chemistry_report_revision\":str(response)}"
   ]
  },
  {
   "cell_type": "code",
   "execution_count": 41,
   "id": "33198939",
   "metadata": {},
   "outputs": [],
   "source": [
    "## at this point of time i have created all the agents which will provide me the report based on the subject only\n",
    "## now i have report of all the five agents,based on these reports i will genearte a final report \n",
    "## that final daily report would be consisting all five subjects information\n",
    "## this agent is specialized in entire IIT-JEE syllabus and knows the importance of each subject and topic\n",
    "## like which subject is more important and which subject is not important\n",
    "## or solving questions is much benificial just reading the theory"
   ]
  },
  {
   "cell_type": "code",
   "execution_count": null,
   "id": "ef6bed3b",
   "metadata": {},
   "outputs": [],
   "source": [
    "prompt_for_final_report = \"\"\"\" You are very helpful assistant.You are expert in IIT-JEE syllabus and have in depth understanding of all the subjects in IIT-JEE syllabus\n",
    "like Mathematics,Physics,Organic Chemistry,Inorganic Chemistry,Physical Chemistry.You know that what the student should do or what not to do.You also know what topics for which\n",
    "subject are most important and which topics are least important.You will be provided the daily report of a student for all the five subjects like Mathematics,Physics,Organic Chemistry,Inorganic Chemistry,Physical Chemistry.\n",
    "Based on these reports only you will provide a fianl report containing all subjects only.Here you will give suggestion to student to do these things and avoid these things.This final\n",
    "report should be containing all subjects information.This final report should be like that student has got all over information for today like what actually he did,what he should not did and what he\n",
    "should did.This is daily report.Based on these daily reports a weekly report will be generated.This final report should not contain very complex words.The report should be of very\n",
    "understandable words.\n",
    "so this is the data based on this data you need to provide the final report\n",
    "mathematics:\\n\\n {math_report}\n",
    "physics:\\n\\n {physics_report}\n",
    "organic chemistry:\\n\\n{organic_chemistry_report}\n",
    "inorganic chemistry:\\n\\n{inorganic_chemistry_report}\n",
    "physical_chemistry:\\n\\n{physical_chemistry_report}\n",
    "\n",
    "while creating the final report,just do not copy paste the above reports and give it to the student.Assume you are the mentor of this student for IIT-JEE\n",
    "Preparation.Think about all the above reports in depth and give insights to student in depth.Do not let any stone unturned.Your goal is just to provide\n",
    "the fianl report to student so that student can understand where actually i am making the mistake and how actually i should improve my mistake.\n",
    "and at last give a final_score to student between -5 to +5. for example -4 means student is performing very bad in preparation for today.+4 means studnet is performing \n",
    "very good on his preparation.Give this score after thinking and analyzing in depth.\n",
    "The final_score must be an integral value , it should not be the fractional value.\n",
    "This report should be very human readble.The student should think that this report has been made by a human not by a machine.Avoid to repeat the information\n",
    "provided by the student.Give motivation along with suggestion to student as he is in very crucial part of his life ,which will decide his entire future.The report should be like\n",
    "'You have done this , you whould not done this,keep hope just practice more'\n",
    "\n",
    "give the final report in  detail showing each and every point of subject and combining all with IIT-JEE Preparation.The final report should be like that\n",
    "just the studnet look at the final report he will understand his today progress.Try to give more explaination in the final report.\n",
    "\n",
    "\n",
    "\n",
    "\n",
    "This report should be of 15 - 20 lines and output should be in the string format\n",
    "The output will be a dictionary will be in this format\n",
    "{{\"final_response\":str,\n",
    "\"final_score\":str}}\n",
    "\n",
    "\n",
    "                            \"\"\""
   ]
  },
  {
   "cell_type": "code",
   "execution_count": 43,
   "id": "f64d64de",
   "metadata": {},
   "outputs": [],
   "source": [
    "def final_report(state:State)->dict:\n",
    "    \"This will provide the final report based on all the reports of all the three subjects\"\n",
    "\n",
    "    math_report = state.get(\"math_report_class\",None)\n",
    "    if math_report == None:\n",
    "        math_report = state.get(\"math_report_revision\",\"Not Provided\") ## if not class then revision\n",
    "\n",
    "    physics_report = state.get(\"physics_report_class\",None)\n",
    "    if physics_report == None:\n",
    "        physics_report = state.get(\"physics_report_revision\",\"Not Provided\")\n",
    "\n",
    "    organic_chemistry_report = state.get(\"organic_chemistry_report_class\",None)\n",
    "    if organic_chemistry_report == None:\n",
    "        organic_chemistry_report = state.get(\"organic_chemistry_report_revision\",\"Not Provided\")\n",
    "\n",
    "    inorganic_chemistry_report = state.get(\"inorganic_chemistry_report_class\",None)\n",
    "    if inorganic_chemistry_report == None:\n",
    "        physical_chemistry_report = state.get(\"inorganic_chemistry_report_revision\",\"Not Provided\")\n",
    "\n",
    "    physical_chemistry_report = state.get(\"physical_chemistry_report_class\",None)\n",
    "    if physical_chemistry_report == None:\n",
    "        physical_chemistry_report = state.get(\"physical_chemistry_report_revision\",\"Not Provided\")\n",
    "    \n",
    "    prompt = prompt_for_final_report.format(\n",
    "        math_report = math_report,\n",
    "        physics_report = physics_report,\n",
    "        organic_chemistry_report=organic_chemistry_report,\n",
    "        inorganic_chemistry_report=inorganic_chemistry_report,\n",
    "        physical_chemistry_report=physical_chemistry_report\n",
    "    )\n",
    "    \n",
    "    messages = [SystemMessage(content=prompt)]\n",
    "    response = llm.invoke(messages)\n",
    "    output_parser = JsonOutputParser()\n",
    "    parsed_response = output_parser.parse(response.content)\n",
    "    final_report = str(parsed_response.get(\"final_response\"))\n",
    "    final_score = int(parsed_response.get(\"final_score\"))\n",
    "\n",
    "\n",
    "    return {\"final_report\":final_report,\"final_score\":final_score}"
   ]
  },
  {
   "cell_type": "code",
   "execution_count": 44,
   "id": "f711f1c6",
   "metadata": {},
   "outputs": [
    {
     "data": {
      "text/plain": [
       "<langgraph.graph.state.StateGraph at 0x220d240c0d0>"
      ]
     },
     "execution_count": 44,
     "metadata": {},
     "output_type": "execute_result"
    }
   ],
   "source": [
    "workflow = StateGraph(State)\n",
    "workflow.add_node(\"Math_Agent\",Math_Agent)\n",
    "workflow.add_node(\"Math_Class\",math_class)\n",
    "workflow.add_node(\"Math_Revision\",math_revision)\n",
    "workflow.add_node(\"Physics_Agent\",Physics_Agent)\n",
    "workflow.add_node(\"Physics_Class\",physics_class)\n",
    "workflow.add_node(\"Physics_Revision\",physics_revision)\n",
    "workflow.add_node(\"Organic_Chemistry_Agent\",Organic_Chemistry_Agent)\n",
    "workflow.add_node(\"Organic_Chemistry_Class\",organic_chemistry_class)\n",
    "workflow.add_node(\"Organic_Chemistry_Revision\",organic_chemistry_revision)\n",
    "workflow.add_node(\"Inorganic_Chemistry_Agent\",inorganic_Chemistry_Agent)\n",
    "workflow.add_node(\"Inorganic_Chemistry_Class\",inorganic_chemistry_class)\n",
    "workflow.add_node(\"Inorganic_Chemistry_Revision\",inorganic_chemistry_revision)\n",
    "workflow.add_node(\"Physical_Chemistry_Agent\",Physical_Chemistry_Agent)\n",
    "workflow.add_node(\"Physical_Chemistry_Class\",physical_chemistry_class)\n",
    "workflow.add_node(\"Physical_Chemistry_Revision\",physical_chemistry_revision)\n",
    "workflow.add_node(\"Final_Report\",final_report)\n",
    "## defined all the nodes\n",
    "## now joining all the nodes\n",
    "workflow.add_edge(START,\"Math_Agent\")\n",
    "workflow.add_edge(START,\"Physics_Agent\")\n",
    "workflow.add_edge(START,\"Organic_Chemistry_Agent\")\n",
    "workflow.add_edge(START,\"Inorganic_Chemistry_Agent\")\n",
    "workflow.add_edge(START,\"Physical_Chemistry_Agent\")\n",
    "\n",
    "workflow.add_conditional_edges(\"Math_Agent\",math_router,{\"class_attended\":\"Math_Class\",\"class_revision\":\"Math_Revision\"})\n",
    "workflow.add_conditional_edges(\"Physics_Agent\",physics_router,{\"class_attended\":\"Physics_Class\",\"class_revision\":\"Physics_Revision\"})\n",
    "workflow.add_conditional_edges(\"Organic_Chemistry_Agent\",organic_chemistry_router,{\"class_attended\":\"Organic_Chemistry_Class\",\"class_revision\":\"Organic_Chemistry_Revision\"})\n",
    "workflow.add_conditional_edges(\"Inorganic_Chemistry_Agent\",inorganic_chemistry_router,{\"class_attended\":\"Inorganic_Chemistry_Class\",\"class_revision\":\"Inorganic_Chemistry_Revision\"})\n",
    "workflow.add_conditional_edges(\"Physical_Chemistry_Agent\",physical_chemistry_router,{\"class_attended\":\"Physical_Chemistry_Class\",\"class_revision\":\"Physical_Chemistry_Revision\"})\n",
    "\n",
    "workflow.add_edge(\"Math_Class\",\"Final_Report\")\n",
    "workflow.add_edge(\"Math_Revision\",\"Final_Report\")\n",
    "\n",
    "workflow.add_edge(\"Physics_Class\",\"Final_Report\")\n",
    "workflow.add_edge(\"Physics_Revision\",\"Final_Report\")\n",
    "\n",
    "workflow.add_edge(\"Organic_Chemistry_Class\",\"Final_Report\")\n",
    "workflow.add_edge(\"Organic_Chemistry_Revision\",\"Final_Report\")\n",
    "\n",
    "workflow.add_edge(\"Inorganic_Chemistry_Class\",\"Final_Report\")\n",
    "workflow.add_edge(\"Inorganic_Chemistry_Revision\",\"Final_Report\")\n",
    "\n",
    "workflow.add_edge(\"Physical_Chemistry_Class\",\"Final_Report\")\n",
    "workflow.add_edge(\"Physical_Chemistry_Revision\",\"Final_Report\")\n",
    "\n",
    "workflow.add_edge(\"Final_Report\",END)"
   ]
  },
  {
   "cell_type": "code",
   "execution_count": 45,
   "id": "7d6feada",
   "metadata": {},
   "outputs": [],
   "source": [
    "app = workflow.compile()"
   ]
  },
  {
   "cell_type": "code",
   "execution_count": 46,
   "id": "fffccb8b",
   "metadata": {},
   "outputs": [
    {
     "data": {
      "image/png": "[encoded data removed]",
      "text/plain": [
       "<IPython.core.display.Image object>"
      ]
     },
     "metadata": {},
     "output_type": "display_data"
    }
   ],
   "source": [
    "# Display the graph\n",
    "from IPython.display import Image, display # type: ignore\n",
    "display(Image(app.get_graph(xray=True).draw_mermaid_png()))"
   ]
  },
  {
   "cell_type": "code",
   "execution_count": 47,
   "id": "e8b02664",
   "metadata": {},
   "outputs": [],
   "source": [
    "## let us creating the structure of the input \n",
    "## we will be creating the input using different different methods\n",
    "## in the first case the student has attended the class only\n",
    "input = {\"Math\":{\"math_class\":{\"topic_studied\":\"Matrices\",\"understanding_rate\":6,\"confidence_level\":5,\"difficult_part\":\"matrix multiplication\",\"pace\":\"medium\",\"doubts_asked\":0,\"topic_new\":\"new\",\"quiz_score\":4}},\n",
    "         \"Physics\":{\"physics_class\":{\"topic_studied\":\"Electric Current\",\"understanding_rate\":7,\"confidence_level\":8,\"difficult_part\":\"drift_current\",\"pace\":\"medium\",\"doubts_asked\":0,\"topic_new\":\"not new\",\"quiz_score\":6}},\n",
    "         \"Organic_Chemistry\":{\"organic_chemistry_class\":{\"topic_studied\":\"IUPAC Naming\",\"understanding_rate\":6,\"confidence_level\":8,\"difficult_part\":\"memorizing\",\"pace\":\"fast\",\"doubts_asked\":0,\"topic_new\":\"new\",\"quiz_zcore\":3}},\n",
    "          \"Inorganic_Chemistry\":{\"inorganic_chemistry_class\":{\"topic_studied\":\"Periodic Table\",\"understanding_rate\":9,\"confidence_level\":8,\"difficult_part\":\"memorizing\",\"pace\":\"medium\",\"doubts_asked\":0,\"topic_new\":\"new\",\"quiz_zcore\":2}},\n",
    "          \"Physical_Chemistry\":{\"physical_chemistry_class\":{\"topic_studied\":\"Acid and bases\",\"understanding_rate\":7,\"confidence_level\":8,\"difficult_part\":\"reactions\",\"pace\":\"slow\",\"doubts_asked\":0,\"topic_new\":\"new\",\"quiz_zcore\":6}},\n",
    "          }"
   ]
  },
  {
   "cell_type": "code",
   "execution_count": 61,
   "id": "9e4c06e4",
   "metadata": {},
   "outputs": [
    {
     "data": {
      "text/plain": [
       "{'input': {'Math': {'math_class': {'topic_studied': 'Matrices',\n",
       "    'understanding_rate': 6,\n",
       "    'confidence_level': 5,\n",
       "    'difficult_part': 'matrix multiplication',\n",
       "    'pace': 'medium',\n",
       "    'doubts_asked': 0,\n",
       "    'topic_new': 'new',\n",
       "    'quiz_score': 4}},\n",
       "  'Physics': {'physics_class': {'topic_studied': 'Electric Current',\n",
       "    'understanding_rate': 7,\n",
       "    'confidence_level': 8,\n",
       "    'difficult_part': 'drift_current',\n",
       "    'pace': 'medium',\n",
       "    'doubts_asked': 0,\n",
       "    'topic_new': 'not new',\n",
       "    'quiz_score': 6}},\n",
       "  'Organic_Chemistry': {'organic_chemistry_class': {'topic_studied': 'IUPAC Naming',\n",
       "    'understanding_rate': 6,\n",
       "    'confidence_level': 8,\n",
       "    'difficult_part': 'memorizing',\n",
       "    'pace': 'fast',\n",
       "    'doubts_asked': 0,\n",
       "    'topic_new': 'new',\n",
       "    'quiz_zcore': 3}},\n",
       "  'Inorganic_Chemistry': {'inorganic_chemistry_class': {'topic_studied': 'Periodic Table',\n",
       "    'understanding_rate': 9,\n",
       "    'confidence_level': 8,\n",
       "    'difficult_part': 'memorizing',\n",
       "    'pace': 'medium',\n",
       "    'doubts_asked': 0,\n",
       "    'topic_new': 'new',\n",
       "    'quiz_zcore': 2}},\n",
       "  'Physical_Chemistry': {'physical_chemistry_class': {'topic_studied': 'Acid and bases',\n",
       "    'understanding_rate': 7,\n",
       "    'confidence_level': 8,\n",
       "    'difficult_part': 'reactions',\n",
       "    'pace': 'slow',\n",
       "    'doubts_asked': 0,\n",
       "    'topic_new': 'new',\n",
       "    'quiz_zcore': 6}}},\n",
       " 'math_revision': 'no',\n",
       " 'math_part': {'math_class': {'topic_studied': 'Matrices',\n",
       "   'understanding_rate': 6,\n",
       "   'confidence_level': 5,\n",
       "   'difficult_part': 'matrix multiplication',\n",
       "   'pace': 'medium',\n",
       "   'doubts_asked': 0,\n",
       "   'topic_new': 'new',\n",
       "   'quiz_score': 4}},\n",
       " 'math_report_class': \"Today, you studied Matrices in Mathematics with a understanding rate of 6 out of 10. Your confidence level in solving questions related to this topic is at 5. It seems like you found the matrix multiplication part a bit confusing and difficult. It's completely normal to feel this way when encountering a new topic like matrices.\\n\\nYour pace in the class was medium, and it's great that you tried to grasp the concepts despite finding some parts challenging. Remember, asking doubts is a crucial part of learning, so don't hesitate to raise any questions you may have in the future.\\n\\nEven though the quiz score was 4 out of 10, don't be disheartened. Quizzes are meant to help you assess your understanding and identify areas where you can improve. Use this as a learning opportunity to focus on the concepts that you found particularly challenging.\\n\\nMoving forward, try to practice more problems related to matrix multiplication to strengthen your understanding. Take small steps every day to build your confidence in this topic. Remember, consistency and perseverance are key to mastering any subject.\\n\\nKeep up the good work and stay motivated. Believe in your ability to overcome challenges and keep pushing yourself to strive for progress. You are on the right path, just keep practicing and you will see improvement over time.\",\n",
       " 'physics_part': {'physics_class': {'topic_studied': 'Electric Current',\n",
       "   'understanding_rate': 7,\n",
       "   'confidence_level': 8,\n",
       "   'difficult_part': 'drift_current',\n",
       "   'pace': 'medium',\n",
       "   'doubts_asked': 0,\n",
       "   'topic_new': 'not new',\n",
       "   'quiz_score': 6}},\n",
       " 'physics_revision': 'no',\n",
       " 'physics_report_class': \"Today's topic of study was Electric Current in Physics. Your understanding rate was at 7 out of 10, which shows good progress. The confidence level you have in solving questions related to this topic is 8 out of 10, indicating a strong grasp on the concepts.\\n\\nIt seems that you found the concept of drift current to be confusing and difficult. It's important to revisit this part and clarify any doubts you may have. Remember, asking questions is a crucial part of the learning process.\\n\\nThe pace of the class was described as medium, which means you should stay focused to keep up with the material. Although you did not ask any questions in class today, do not hesitate to seek clarification from your teacher whenever needed.\\n\\nIt's great to see that this topic was not new to you, as it shows that you already have some background knowledge in this area. Keep building on this foundation and continue practicing regularly to reinforce your understanding.\\n\\nIn the quiz provided by our system, you scored a 6 out of 10. This indicates areas where you can improve and focus your efforts. Remember, practice is key to mastering any concept.\\n\\nOverall, keep up the good work and stay motivated. Focus on understanding the concept of drift current better, ask questions when needed, and practice consistently to strengthen your knowledge. Your hard work will pay off, so stay dedicated and keep pushing yourself to achieve your goals.\",\n",
       " 'organic_chemistry_part': {'organic_chemistry_class': {'topic_studied': 'IUPAC Naming',\n",
       "   'understanding_rate': 6,\n",
       "   'confidence_level': 8,\n",
       "   'difficult_part': 'memorizing',\n",
       "   'pace': 'fast',\n",
       "   'doubts_asked': 0,\n",
       "   'topic_new': 'new',\n",
       "   'quiz_zcore': 3}},\n",
       " 'organic_chemistry_revision': 'no',\n",
       " 'organic_chemistry_report_class': \"Today, you studied IUPAC Naming in Organic Chemistry with a fair understanding rate of 6 out of 10. It's great that you have a high confidence level of 8 in solving questions related to this topic. However, it's understandable that you found the memorizing part confusing and difficult, especially with the fast pace of the class.\\n\\nIt's important to not get discouraged by finding certain aspects challenging. Remember, learning takes time and practice. Don't hesitate to ask questions in class if you're unsure about something. Asking questions can help clarify your doubts and deepen your understanding.\\n\\nSince this topic is new for you, it's normal to feel a bit overwhelmed. Just take small steps each day to reinforce your learning. Try practicing IUPAC Naming regularly to improve your grasp on the topic.\\n\\nKeep in mind that improvement comes with consistent effort and dedication. Stay motivated and keep a positive attitude towards your studies. Remember, every small milestone you achieve is a step forward towards your goal.\\n\\nFor the next class, focus on revisiting the basics of IUPAC Naming and try to work through some practice problems to strengthen your skills. Stay engaged and proactive in your learning process. You're capable of overcoming challenges, just keep practicing and stay determined.\\n\\nBelieve in yourself, stay focused, and keep pushing forward. You've got this!\",\n",
       " 'inorganic_chemistry_part': {'inorganic_chemistry_class': {'topic_studied': 'Periodic Table',\n",
       "   'understanding_rate': 9,\n",
       "   'confidence_level': 8,\n",
       "   'difficult_part': 'memorizing',\n",
       "   'pace': 'medium',\n",
       "   'doubts_asked': 0,\n",
       "   'topic_new': 'new',\n",
       "   'quiz_zcore': 2}},\n",
       " 'inorganic_chemistry_revision': 'no',\n",
       " 'inorganic_chemistry_report_class': \"Today, you delved into the topic of Periodic Table in the realm of inorganic Chemistry with a commendable understanding rate of 9 out of 10. Your confidence level in solving questions related to this topic stands at 8 out of 10, reflecting a strong grasp on the subject matter. \\n\\nIt appears that you found the memorization aspect of this topic to be a bit perplexing and challenging, which is quite common when exploring new concepts. Remember, practice makes perfect, so don't get disheartened. The pace of the class was noted to be medium, indicating a steady progression through the material.\\n\\nAlthough you did not raise any doubts during the class, it is always encouraged to seek clarification on any confusions or queries that may arise. Asking questions is a crucial part of the learning process and helps solidify your understanding.\\n\\nAs part of the session, you engaged in a quiz provided by our system. While the score is not available at the moment, remember that quizzes are a great way to test your knowledge and identify areas that may need further attention.\\n\\nMoving forward, I recommend revisiting the concepts related to the Periodic Table, particularly focusing on memorization techniques to strengthen your understanding. Keep practicing, stay motivated, and believe in your ability to tackle any challenges that come your way. Remember, consistent effort and dedication will lead you to success. Keep up the good work and continue striving for excellence!\",\n",
       " 'physical_chemistry_part': {'physical_chemistry_class': {'topic_studied': 'Acid and bases',\n",
       "   'understanding_rate': 7,\n",
       "   'confidence_level': 8,\n",
       "   'difficult_part': 'reactions',\n",
       "   'pace': 'slow',\n",
       "   'doubts_asked': 0,\n",
       "   'topic_new': 'new',\n",
       "   'quiz_zcore': 6}},\n",
       " 'physical_chemistry_revision': 'no',\n",
       " 'physical_chemistry_report_class': \"Today, you studied the topic of Acids and Bases in Physical Chemistry with a good level of understanding at 7 out of 10. Your confidence in solving questions related to this topic is at 8. It is noted that you found the reactions part of this topic quite confusing and difficult, and felt that the pace of the class was slow. Despite this, you did not raise any doubts during the class.\\n\\nSince this topic was new to you, it is normal to find some parts challenging. I encourage you to review the reactions portion thoroughly to strengthen your understanding. Don't be discouraged by finding it difficult initially, with more practice and focus you will definitely improve.\\n\\nRemember, asking doubts and seeking clarification is important for your progress. Do not hesitate to ask questions when you are unsure about something. It is okay to not know everything, but it is important to be willing to learn and clarify your doubts.\\n\\nContinue practicing and challenging yourself with questions to enhance your comprehension of the topic. Stay positive and keep up the good work. Your efforts will surely pay off in the long run. Just believe in yourself and stay motivated.\",\n",
       " 'final_report': \"Today, you made good progress in your IIT-JEE preparation. In Mathematics, although you found matrix multiplication confusing, it's normal when learning a new topic like Matrices. Remember to ask doubts and practice more problems to build your confidence. In Physics, your understanding of Electric Current was commendable, but ensure you clarify doubts on drift current. Stay focused in class and practice consistently. Your study of IUPAC Naming in Organic Chemistry showed improvement, keep practicing regularly to reinforce learning. In Inorganic Chemistry, your grasp on the Periodic Table was strong, work on memorization techniques to deepen understanding. In Physical Chemistry, despite finding reactions challenging, with more practice and asking doubts, you will improve. Stay motivated, keep pushing yourself, and believe in your ability to overcome challenges in your IIT-JEE preparation.\",\n",
       " 'final_score': 3}"
      ]
     },
     "execution_count": 61,
     "metadata": {},
     "output_type": "execute_result"
    }
   ],
   "source": [
    "inputs = {\"input\":input}\n",
    "response = app.invoke(inputs)\n",
    "response"
   ]
  },
  {
   "cell_type": "code",
   "execution_count": 49,
   "id": "e5933928",
   "metadata": {},
   "outputs": [
    {
     "data": {
      "text/plain": [
       "langgraph.pregel.io.AddableValuesDict"
      ]
     },
     "execution_count": 49,
     "metadata": {},
     "output_type": "execute_result"
    }
   ],
   "source": [
    "type(response)"
   ]
  },
  {
   "cell_type": "code",
   "execution_count": 50,
   "id": "24151915",
   "metadata": {},
   "outputs": [
    {
     "data": {
      "text/plain": [
       "{'input': {'Math': {'math_class': {'topic_studied': 'Matrices',\n",
       "    'understanding_rate': 6,\n",
       "    'confidence_level': 5,\n",
       "    'difficult_part': 'matrix multiplication',\n",
       "    'pace': 'medium',\n",
       "    'doubts_asked': 0,\n",
       "    'topic_new': 'new',\n",
       "    'quiz_score': 4}},\n",
       "  'Physics': {'physics_class': {'topic_studied': 'Electric Current',\n",
       "    'understanding_rate': 7,\n",
       "    'confidence_level': 8,\n",
       "    'difficult_part': 'drift_current',\n",
       "    'pace': 'medium',\n",
       "    'doubts_asked': 0,\n",
       "    'topic_new': 'not new',\n",
       "    'quiz_score': 6}},\n",
       "  'Organic_Chemistry': {'organic_chemistry_class': {'topic_studied': 'IUPAC Naming',\n",
       "    'understanding_rate': 6,\n",
       "    'confidence_level': 8,\n",
       "    'difficult_part': 'memorizing',\n",
       "    'pace': 'fast',\n",
       "    'doubts_asked': 0,\n",
       "    'topic_new': 'new',\n",
       "    'quiz_zcore': 3}},\n",
       "  'Inorganic_Chemistry': {'inorganic_chemistry_class': {'topic_studied': 'Periodic Table',\n",
       "    'understanding_rate': 9,\n",
       "    'confidence_level': 8,\n",
       "    'difficult_part': 'memorizing',\n",
       "    'pace': 'medium',\n",
       "    'doubts_asked': 0,\n",
       "    'topic_new': 'new',\n",
       "    'quiz_zcore': 2}},\n",
       "  'Physical_Chemistry': {'physical_chemistry_class': {'topic_studied': 'Acid and bases',\n",
       "    'understanding_rate': 7,\n",
       "    'confidence_level': 8,\n",
       "    'difficult_part': 'reactions',\n",
       "    'pace': 'slow',\n",
       "    'doubts_asked': 0,\n",
       "    'topic_new': 'new',\n",
       "    'quiz_zcore': 6}}},\n",
       " 'math_revision': 'no',\n",
       " 'math_part': {'math_class': {'topic_studied': 'Matrices',\n",
       "   'understanding_rate': 6,\n",
       "   'confidence_level': 5,\n",
       "   'difficult_part': 'matrix multiplication',\n",
       "   'pace': 'medium',\n",
       "   'doubts_asked': 0,\n",
       "   'topic_new': 'new',\n",
       "   'quiz_score': 4}},\n",
       " 'math_report_class': \"Today, you studied Matrices in Mathematics with an understanding rate of 6 out of 10. Your confidence level in solving questions related to this topic is at 5 out of 10. The class pace was medium and you found matrix multiplication to be quite confusing and challenging. Although the topic was new to you, you did not ask any doubts to the teacher during the session. \\n\\nIt's great that you attempted the quiz we provided and scored 4 out of 10. Remember, practice is key to improving in Mathematics. Focus on understanding the concepts behind matrix multiplication, as it forms the basis for many other topics in this area.\\n\\nMathematics may seem tough at times, but with consistent effort and practice, you can definitely improve. Don't be disheartened by a low quiz score - use it as motivation to work harder and ask questions when in doubt. Stay positive, keep practicing, and you will see progress. Believe in yourself and your abilities.\",\n",
       " 'physics_part': {'physics_class': {'topic_studied': 'Electric Current',\n",
       "   'understanding_rate': 7,\n",
       "   'confidence_level': 8,\n",
       "   'difficult_part': 'drift_current',\n",
       "   'pace': 'medium',\n",
       "   'doubts_asked': 0,\n",
       "   'topic_new': 'not new',\n",
       "   'quiz_score': 6}},\n",
       " 'physics_revision': 'no',\n",
       " 'physics_report_class': \"Today's topic of Electric Current in Physics was studied with an understanding rate of 7 out of 10, which shows a good grasp of the concept. The student's confidence level in solving questions related to this topic is at 8, indicating a strong command over the subject matter. Despite finding the concept of drift current confusing and difficult, it is important to remember that practice and revisiting the topic will lead to better understanding.\\n\\nThe pace of the class was moderate, which allows for a balanced learning experience. Even though no doubts were asked in the class, it is encouraged to seek clarification whenever a concept seems unclear. Remember, it's okay to ask questions as it helps in reinforcing understanding.\\n\\nThe quiz provided by our system was attempted with a score of 6 out of 10. This result reflects the need for consistent practice and revision to improve performance. Focus on solving more problems to reinforce learning and enhance problem-solving skills.\\n\\nContinue to stay engaged with the material, keep practicing regularly, and don't hesitate to ask questions or seek help when needed. Your dedication and effort will surely lead to great progress. Stay motivated and believe in your abilities. Keep up the good work!\",\n",
       " 'organic_chemistry_part': {'organic_chemistry_class': {'topic_studied': 'IUPAC Naming',\n",
       "   'understanding_rate': 6,\n",
       "   'confidence_level': 8,\n",
       "   'difficult_part': 'memorizing',\n",
       "   'pace': 'fast',\n",
       "   'doubts_asked': 0,\n",
       "   'topic_new': 'new',\n",
       "   'quiz_zcore': 3}},\n",
       " 'organic_chemistry_revision': 'no',\n",
       " 'organic_chemistry_report_class': \"Today, you studied the topic of IUPAC Naming in Organic Chemistry. Your understanding rate was 6 out of 10 and your confidence level in solving questions related to this topic was 8 out of 10. It is noted that you found the memorizing part of this topic confusing and difficult. The pace of the class was fast according to you, but you did not ask any doubts to the teacher.\\n\\nRemember, it is normal to find certain topics challenging, but with practice and perseverance, you can overcome these difficulties. To improve your understanding of IUPAC Naming, it is recommended to focus on practicing more questions and revising the concepts regularly.\\n\\nStay motivated and don't be disheartened by the challenges you face. Keep a positive attitude towards learning and believe in your ability to improve. Your dedication and hard work will surely pay off in the long run. Keep up the good work and continue to strive for progress each day.\",\n",
       " 'inorganic_chemistry_part': {'inorganic_chemistry_class': {'topic_studied': 'Periodic Table',\n",
       "   'understanding_rate': 9,\n",
       "   'confidence_level': 8,\n",
       "   'difficult_part': 'memorizing',\n",
       "   'pace': 'medium',\n",
       "   'doubts_asked': 0,\n",
       "   'topic_new': 'new',\n",
       "   'quiz_zcore': 2}},\n",
       " 'inorganic_chemistry_revision': 'no',\n",
       " 'inorganic_chemistry_report_class': \"Today, you delved into the topic of the Periodic Table in inorganic Chemistry with a strong understanding rate of 9 out of 10. Your confidence level in solving related questions stands at 8 out of 10. However, you found the memorization aspect to be quite confusing and difficult. Remember, practice makes perfect so keep revising to strengthen your understanding.\\n\\nThough the pace of the class was deemed medium by you, it's essential to stay focused and engaged during every session. Don't hesitate to ask questions if any doubts arise - this active participation will enhance your learning experience. \\n\\nSince the topic was new to you, it's normal to encounter challenges initially. Stay determined and persevere through difficulties. While your quiz score is not available, it's crucial to review your mistakes and work on improving your performance.\\n\\nMoving forward, make sure to allocate regular time for revision and practice. Utilize resources available to you, including additional study materials and online platforms, to deepen your understanding. Stay motivated, believe in yourself, and keep up the hard work - success will follow your dedicated efforts.\",\n",
       " 'physical_chemistry_part': {'physical_chemistry_class': {'topic_studied': 'Acid and bases',\n",
       "   'understanding_rate': 7,\n",
       "   'confidence_level': 8,\n",
       "   'difficult_part': 'reactions',\n",
       "   'pace': 'slow',\n",
       "   'doubts_asked': 0,\n",
       "   'topic_new': 'new',\n",
       "   'quiz_zcore': 6}},\n",
       " 'physical_chemistry_revision': 'no',\n",
       " 'physical_chemistry_report_class': \"Today, you studied the topic of Acids and Bases in Physical Chemistry. Your understanding rate was at 7 out of 10, which shows a good grasp of the concept. It's great to see your confidence level in solving questions related to this topic is at 8 out of 10. However, you found the reactions part a bit confusing and difficult, indicating an area where you can focus more in the future.\\n\\nAlthough the pace of the class was slow according to you, it's important to stay engaged and utilize this time to reinforce your understanding. Don't hesitate to ask questions in class if you come across any doubts - it's crucial for your learning process.\\n\\nSince this topic was new for you, it's understandable to face challenges. Remember, learning something new takes time and effort. Keep up the good work and stay motivated. Practice more problems to strengthen your understanding of the concepts.\\n\\nLastly, participation is key in your learning journey. Try to engage more in class discussions and activities to enhance your learning experience. Keep a positive attitude and believe in your ability to overcome challenges. Keep up the good work!\",\n",
       " 'final_report': \"Today, you made progress in Mathematics, Physics, Organic Chemistry, Inorganic Chemistry, and Physical Chemistry. Despite facing challenges in matrix multiplication and drift current, you displayed a good understanding of the concepts overall. Remember, practice is key to improvement, so focus on strengthening your foundation in these topics. Your confidence levels are promising, indicating a strong command over the subjects. It's essential to actively participate in class, ask questions when in doubt, and engage in regular practice and revision. Keep a positive attitude towards learning, believe in your abilities, and stay motivated to overcome any obstacles. Your dedication and hard work will surely pay off in the long run. Just keep practicing and pushing yourself to do better every day.\",\n",
       " 'final_score': 3}"
      ]
     },
     "execution_count": 50,
     "metadata": {},
     "output_type": "execute_result"
    }
   ],
   "source": [
    "response"
   ]
  },
  {
   "cell_type": "code",
   "execution_count": 51,
   "id": "ec465578",
   "metadata": {},
   "outputs": [],
   "source": [
    "math_report = response.get(\"math_report_class\")"
   ]
  },
  {
   "cell_type": "code",
   "execution_count": 52,
   "id": "c1985a4a",
   "metadata": {},
   "outputs": [
    {
     "data": {
      "text/plain": [
       "\"Today, you studied Matrices in Mathematics with an understanding rate of 6 out of 10. Your confidence level in solving questions related to this topic is at 5 out of 10. The class pace was medium and you found matrix multiplication to be quite confusing and challenging. Although the topic was new to you, you did not ask any doubts to the teacher during the session. \\n\\nIt's great that you attempted the quiz we provided and scored 4 out of 10. Remember, practice is key to improving in Mathematics. Focus on understanding the concepts behind matrix multiplication, as it forms the basis for many other topics in this area.\\n\\nMathematics may seem tough at times, but with consistent effort and practice, you can definitely improve. Don't be disheartened by a low quiz score - use it as motivation to work harder and ask questions when in doubt. Stay positive, keep practicing, and you will see progress. Believe in yourself and your abilities.\""
      ]
     },
     "execution_count": 52,
     "metadata": {},
     "output_type": "execute_result"
    }
   ],
   "source": [
    "math_report"
   ]
  },
  {
   "cell_type": "code",
   "execution_count": 53,
   "id": "b788afb8",
   "metadata": {},
   "outputs": [
    {
     "data": {
      "text/plain": [
       "\"Today's topic of Electric Current in Physics was studied with an understanding rate of 7 out of 10, which shows a good grasp of the concept. The student's confidence level in solving questions related to this topic is at 8, indicating a strong command over the subject matter. Despite finding the concept of drift current confusing and difficult, it is important to remember that practice and revisiting the topic will lead to better understanding.\\n\\nThe pace of the class was moderate, which allows for a balanced learning experience. Even though no doubts were asked in the class, it is encouraged to seek clarification whenever a concept seems unclear. Remember, it's okay to ask questions as it helps in reinforcing understanding.\\n\\nThe quiz provided by our system was attempted with a score of 6 out of 10. This result reflects the need for consistent practice and revision to improve performance. Focus on solving more problems to reinforce learning and enhance problem-solving skills.\\n\\nContinue to stay engaged with the material, keep practicing regularly, and don't hesitate to ask questions or seek help when needed. Your dedication and effort will surely lead to great progress. Stay motivated and believe in your abilities. Keep up the good work!\""
      ]
     },
     "execution_count": 53,
     "metadata": {},
     "output_type": "execute_result"
    }
   ],
   "source": [
    "response.get(\"physics_report_class\")"
   ]
  },
  {
   "cell_type": "code",
   "execution_count": 54,
   "id": "b84a12f9",
   "metadata": {},
   "outputs": [
    {
     "data": {
      "text/plain": [
       "\"Today, you studied the topic of IUPAC Naming in Organic Chemistry. Your understanding rate was 6 out of 10 and your confidence level in solving questions related to this topic was 8 out of 10. It is noted that you found the memorizing part of this topic confusing and difficult. The pace of the class was fast according to you, but you did not ask any doubts to the teacher.\\n\\nRemember, it is normal to find certain topics challenging, but with practice and perseverance, you can overcome these difficulties. To improve your understanding of IUPAC Naming, it is recommended to focus on practicing more questions and revising the concepts regularly.\\n\\nStay motivated and don't be disheartened by the challenges you face. Keep a positive attitude towards learning and believe in your ability to improve. Your dedication and hard work will surely pay off in the long run. Keep up the good work and continue to strive for progress each day.\""
      ]
     },
     "execution_count": 54,
     "metadata": {},
     "output_type": "execute_result"
    }
   ],
   "source": [
    "response.get(\"organic_chemistry_report_class\")"
   ]
  },
  {
   "cell_type": "code",
   "execution_count": 55,
   "id": "1af9b86a",
   "metadata": {},
   "outputs": [
    {
     "data": {
      "text/plain": [
       "\"Today, you delved into the topic of the Periodic Table in inorganic Chemistry with a strong understanding rate of 9 out of 10. Your confidence level in solving related questions stands at 8 out of 10. However, you found the memorization aspect to be quite confusing and difficult. Remember, practice makes perfect so keep revising to strengthen your understanding.\\n\\nThough the pace of the class was deemed medium by you, it's essential to stay focused and engaged during every session. Don't hesitate to ask questions if any doubts arise - this active participation will enhance your learning experience. \\n\\nSince the topic was new to you, it's normal to encounter challenges initially. Stay determined and persevere through difficulties. While your quiz score is not available, it's crucial to review your mistakes and work on improving your performance.\\n\\nMoving forward, make sure to allocate regular time for revision and practice. Utilize resources available to you, including additional study materials and online platforms, to deepen your understanding. Stay motivated, believe in yourself, and keep up the hard work - success will follow your dedicated efforts.\""
      ]
     },
     "execution_count": 55,
     "metadata": {},
     "output_type": "execute_result"
    }
   ],
   "source": [
    "response.get(\"inorganic_chemistry_report_class\")"
   ]
  },
  {
   "cell_type": "code",
   "execution_count": 56,
   "id": "7407c4df",
   "metadata": {},
   "outputs": [
    {
     "data": {
      "text/plain": [
       "\"Today, you studied the topic of Acids and Bases in Physical Chemistry. Your understanding rate was at 7 out of 10, which shows a good grasp of the concept. It's great to see your confidence level in solving questions related to this topic is at 8 out of 10. However, you found the reactions part a bit confusing and difficult, indicating an area where you can focus more in the future.\\n\\nAlthough the pace of the class was slow according to you, it's important to stay engaged and utilize this time to reinforce your understanding. Don't hesitate to ask questions in class if you come across any doubts - it's crucial for your learning process.\\n\\nSince this topic was new for you, it's understandable to face challenges. Remember, learning something new takes time and effort. Keep up the good work and stay motivated. Practice more problems to strengthen your understanding of the concepts.\\n\\nLastly, participation is key in your learning journey. Try to engage more in class discussions and activities to enhance your learning experience. Keep a positive attitude and believe in your ability to overcome challenges. Keep up the good work!\""
      ]
     },
     "execution_count": 56,
     "metadata": {},
     "output_type": "execute_result"
    }
   ],
   "source": [
    "response.get(\"physical_chemistry_report_class\")"
   ]
  },
  {
   "cell_type": "code",
   "execution_count": 62,
   "id": "8bdf022c",
   "metadata": {},
   "outputs": [],
   "source": [
    "final_report = response.get(\"final_report\")"
   ]
  },
  {
   "cell_type": "code",
   "execution_count": 63,
   "id": "6e1b0f80",
   "metadata": {},
   "outputs": [
    {
     "data": {
      "text/plain": [
       "3"
      ]
     },
     "execution_count": 63,
     "metadata": {},
     "output_type": "execute_result"
    }
   ],
   "source": [
    "response.get(\"final_score\")"
   ]
  },
  {
   "cell_type": "code",
   "execution_count": 59,
   "id": "80397a05",
   "metadata": {},
   "outputs": [
    {
     "data": {
      "text/plain": [
       "\"Today, you made progress in Mathematics, Physics, Organic Chemistry, Inorganic Chemistry, and Physical Chemistry. Despite facing challenges in matrix multiplication and drift current, you displayed a good understanding of the concepts overall. Remember, practice is key to improvement, so focus on strengthening your foundation in these topics. Your confidence levels are promising, indicating a strong command over the subjects. It's essential to actively participate in class, ask questions when in doubt, and engage in regular practice and revision. Keep a positive attitude towards learning, believe in your abilities, and stay motivated to overcome any obstacles. Your dedication and hard work will surely pay off in the long run. Just keep practicing and pushing yourself to do better every day.\""
      ]
     },
     "execution_count": 59,
     "metadata": {},
     "output_type": "execute_result"
    }
   ],
   "source": [
    "final_report"
   ]
  },
  {
   "cell_type": "code",
   "execution_count": 64,
   "id": "df5037f6",
   "metadata": {},
   "outputs": [
    {
     "data": {
      "text/plain": [
       "\"Today, you made good progress in your IIT-JEE preparation. In Mathematics, although you found matrix multiplication confusing, it's normal when learning a new topic like Matrices. Remember to ask doubts and practice more problems to build your confidence. In Physics, your understanding of Electric Current was commendable, but ensure you clarify doubts on drift current. Stay focused in class and practice consistently. Your study of IUPAC Naming in Organic Chemistry showed improvement, keep practicing regularly to reinforce learning. In Inorganic Chemistry, your grasp on the Periodic Table was strong, work on memorization techniques to deepen understanding. In Physical Chemistry, despite finding reactions challenging, with more practice and asking doubts, you will improve. Stay motivated, keep pushing yourself, and believe in your ability to overcome challenges in your IIT-JEE preparation.\""
      ]
     },
     "execution_count": 64,
     "metadata": {},
     "output_type": "execute_result"
    }
   ],
   "source": [
    "final_report"
   ]
  },
  {
   "cell_type": "code",
   "execution_count": null,
   "id": "c28f51dd",
   "metadata": {},
   "outputs": [],
   "source": [
    " "
   ]
  },
  {
   "cell_type": "code",
   "execution_count": null,
   "id": "4660a80a",
   "metadata": {},
   "outputs": [],
   "source": []
  }
 ],
 "metadata": {
  "kernelspec": {
   "display_name": "Python 3",
   "language": "python",
   "name": "python3"
  },
  "language_info": {
   "codemirror_mode": {
    "name": "ipython",
    "version": 3
   },
   "file_extension": ".py",
   "mimetype": "text/x-python",
   "name": "python",
   "nbconvert_exporter": "python",
   "pygments_lexer": "ipython3",
   "version": "3.10.0"
  }
 },
 "nbformat": 4,
 "nbformat_minor": 5
}
